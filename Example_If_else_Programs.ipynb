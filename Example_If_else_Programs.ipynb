{
 "cells": [
  {
   "cell_type": "markdown",
   "id": "8be02e9b-291c-4a5a-a41b-9d247eda6cf0",
   "metadata": {},
   "source": [
    "#  Sort 3 no's in Ascending order"
   ]
  },
  {
   "cell_type": "code",
   "execution_count": 15,
   "id": "15537c56-2690-4a30-beae-446db64c411c",
   "metadata": {},
   "outputs": [
    {
     "name": "stdin",
     "output_type": "stream",
     "text": [
      "Enter first number:  90\n",
      "Enter second number:  12\n",
      "Enter third number:  66\n"
     ]
    },
    {
     "name": "stdout",
     "output_type": "stream",
     "text": [
      "12,66,90\n"
     ]
    }
   ],
   "source": [
    "num1=int(input(\"Enter first number: \"))\n",
    "num2=int(input(\"Enter second number: \"))\n",
    "num3=int(input(\"Enter third number: \"))\n",
    "if num1<=num2 and num1<=num3:\n",
    "  if num2<num3:\n",
    "    print(f\"{num1},{num2},{num3}\") \n",
    "  else:\n",
    "    print(f\"{num1},{num3},{num2}\")\n",
    "elif num2<=num1 and num2<=num3:\n",
    "  if num1<num3:\n",
    "    print(f\"{num2},{num1},{num3}\")\n",
    "  else:\n",
    "    print(f\"{num2},{num3},{num1}\")  \n",
    "elif num3<=num1 and num3<=num2:\n",
    "  if num2<num1:\n",
    "    print(f\"{num3},{num2},{num1}\")\n",
    "  else:\n",
    "    print(f\"{num3},{num1},{num2}\")"
   ]
  },
  {
   "cell_type": "markdown",
   "id": "e1125753-0e67-4b49-bb65-17a51d83f544",
   "metadata": {},
   "source": [
    "# Calculate Profit and Loss"
   ]
  },
  {
   "cell_type": "code",
   "execution_count": 29,
   "id": "2aa517df-d7d0-401b-ba34-e511f5edf4c5",
   "metadata": {},
   "outputs": [
    {
     "name": "stdin",
     "output_type": "stream",
     "text": [
      "Enter actual cost of pen:  3\n",
      "Enter selling cost of pen:  2\n"
     ]
    },
    {
     "name": "stdout",
     "output_type": "stream",
     "text": [
      "Loss\n"
     ]
    }
   ],
   "source": [
    "actual_cost=int(input(\"Enter actual cost of pen: \"))\n",
    "selling_cost=int(input(\"Enter selling cost of pen: \"))\n",
    "if actual_cost<selling_cost and actual_cost>=1 and selling_cost>=1:\n",
    "   print(\"Profit\")\n",
    "elif actual_cost==selling_cost and actual_cost>=1 and selling_cost>=1:\n",
    "   print(\"No Profit and No Loss\")\n",
    "elif actual_cost>selling_cost and actual_cost>=1 and selling_cost>=1:\n",
    "   print(\"Loss\")\n",
    "else:\n",
    "   print(\"Invalid cost\")"
   ]
  },
  {
   "cell_type": "code",
   "execution_count": 33,
   "id": "0b3676ce-7d4b-4885-8a04-e7f4e92f5abf",
   "metadata": {},
   "outputs": [
    {
     "name": "stdin",
     "output_type": "stream",
     "text": [
      "Enter Character:  A\n"
     ]
    },
    {
     "name": "stdout",
     "output_type": "stream",
     "text": [
      "A in uppercase\n"
     ]
    }
   ],
   "source": [
    "char=input(\"Enter Character: \")\n",
    "if char==char.upper():\n",
    "   print(f\"{char} in uppercase\")\n",
    "else:\n",
    "   print(f\"{char} in lowercase\")"
   ]
  },
  {
   "cell_type": "markdown",
   "id": "c38d2913-e0c6-4b67-91d4-d17369d77f06",
   "metadata": {},
   "source": [
    "# Among 3 numbers print larger number"
   ]
  },
  {
   "cell_type": "code",
   "execution_count": 38,
   "id": "45b30dc7-1627-42e5-bf10-a71eb47be624",
   "metadata": {},
   "outputs": [
    {
     "name": "stdin",
     "output_type": "stream",
     "text": [
      "Enter first number:  1\n",
      "Enter second number:  1\n",
      "Enter third number:  1\n"
     ]
    },
    {
     "name": "stdout",
     "output_type": "stream",
     "text": [
      "1 is greater\n"
     ]
    }
   ],
   "source": [
    "num1=int(input(\"Enter first number: \"))\n",
    "num2=int(input(\"Enter second number: \"))\n",
    "num3=int(input(\"Enter third number: \"))\n",
    "if num1>num2 and num1>num3:\n",
    "    print(f\"{num1} is greater\")\n",
    "elif num2>num1 and num2>num3:\n",
    "    print(f\"{num2} is greater\")\n",
    "else:\n",
    "    print(f\"{num3} is greater\")"
   ]
  },
  {
   "cell_type": "markdown",
   "id": "7fdd12d1-2c81-42c2-960b-3fd897d74550",
   "metadata": {},
   "source": [
    "# Check whether number is divisible by 5 and 11"
   ]
  },
  {
   "cell_type": "code",
   "execution_count": 42,
   "id": "9b1a9425-28d0-4386-ad79-5121f7935558",
   "metadata": {},
   "outputs": [
    {
     "name": "stdin",
     "output_type": "stream",
     "text": [
      "Enter number:  110\n"
     ]
    },
    {
     "name": "stdout",
     "output_type": "stream",
     "text": [
      "110is divisible by 5 and 11\n"
     ]
    }
   ],
   "source": [
    "num=int(input(\"Enter number: \"))\n",
    "if num%5==0 and num%11==0:\n",
    "   print(f\"{num} is divisible by 5 and 11\")\n",
    "else:\n",
    "    print(f\"{num} is not divisible by 5 and 11\")"
   ]
  },
  {
   "cell_type": "markdown",
   "id": "b98657d6-f83d-4ad9-a384-744cb877cff2",
   "metadata": {},
   "source": [
    "# Check whether string is alphabet or not"
   ]
  },
  {
   "cell_type": "code",
   "execution_count": 47,
   "id": "00c8c4bc-9854-48b4-b742-5690401c63cc",
   "metadata": {},
   "outputs": [
    {
     "name": "stdin",
     "output_type": "stream",
     "text": [
      "Enter string:  Sweta\n"
     ]
    },
    {
     "name": "stdout",
     "output_type": "stream",
     "text": [
      "Sweta is alphabetical format\n"
     ]
    }
   ],
   "source": [
    "string=input(\"Enter string: \")\n",
    "if string.isalpha()==True:\n",
    "   print(f\"{string} is alphabetical format\")\n",
    "else:\n",
    "   print(f\"{string} is not in alphabetical format\")"
   ]
  },
  {
   "cell_type": "markdown",
   "id": "681788fb-af86-4c7d-bc0f-90eb759aac51",
   "metadata": {},
   "source": [
    "# Check whether character is vowel or not"
   ]
  },
  {
   "cell_type": "code",
   "execution_count": 49,
   "id": "0b131dc3-f82f-4905-9360-eb9257761a71",
   "metadata": {},
   "outputs": [
    {
     "name": "stdin",
     "output_type": "stream",
     "text": [
      "Enter Character:  A\n"
     ]
    },
    {
     "name": "stdout",
     "output_type": "stream",
     "text": [
      "A is vowel\n"
     ]
    }
   ],
   "source": [
    "char=input(\"Enter Character: \")\n",
    "if char in \"AEIOUaeiou\":\n",
    "  print(f\"{char} is vowel\")\n",
    "else:\n",
    "  print(f\"{char} is not vowel\")"
   ]
  },
  {
   "cell_type": "markdown",
   "id": "46507464-1225-47f8-a4b3-42c07a0d0bce",
   "metadata": {},
   "source": [
    "# Check whether given year is leap year or not"
   ]
  },
  {
   "cell_type": "code",
   "execution_count": 5,
   "id": "744c1cef-f2f8-4247-a69c-4504f3f33cd9",
   "metadata": {},
   "outputs": [
    {
     "name": "stdin",
     "output_type": "stream",
     "text": [
      "Enter Year:  2023\n"
     ]
    },
    {
     "name": "stdout",
     "output_type": "stream",
     "text": [
      "2023 is not leap year\n"
     ]
    }
   ],
   "source": [
    "year=int(input(\"Enter Year: \"))\n",
    "if year%4==0 or year%400==0:\n",
    "    if year%100!=0:\n",
    "       print(f\"{year} is leap year\")\n",
    "    else:\n",
    "       print(f\"leap year cannot divisible by 100. Hence it is not leap year\")\n",
    "else:\n",
    "  print(f\"{year} is not leap year\")    "
   ]
  },
  {
   "cell_type": "code",
   "execution_count": null,
   "id": "1186688c-941f-462e-8b0f-e0a354fc02d6",
   "metadata": {},
   "outputs": [],
   "source": []
  },
  {
   "cell_type": "code",
   "execution_count": null,
   "id": "e56a33a9-2b63-45bc-ab6a-caec3e9cba74",
   "metadata": {},
   "outputs": [],
   "source": []
  },
  {
   "cell_type": "code",
   "execution_count": null,
   "id": "232cee5a-d2de-40cc-93e2-8ffab34181d9",
   "metadata": {},
   "outputs": [],
   "source": []
  }
 ],
 "metadata": {
  "kernelspec": {
   "display_name": "Python 3 (ipykernel)",
   "language": "python",
   "name": "python3"
  },
  "language_info": {
   "codemirror_mode": {
    "name": "ipython",
    "version": 3
   },
   "file_extension": ".py",
   "mimetype": "text/x-python",
   "name": "python",
   "nbconvert_exporter": "python",
   "pygments_lexer": "ipython3",
   "version": "3.11.4"
  }
 },
 "nbformat": 4,
 "nbformat_minor": 5
}
