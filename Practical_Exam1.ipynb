{
 "cells": [
  {
   "cell_type": "markdown",
   "id": "38b14e0c-217c-4d55-bb45-30d4ca29f112",
   "metadata": {},
   "source": [
    "# Comments"
   ]
  },
  {
   "cell_type": "code",
   "execution_count": 2,
   "id": "f01b1ce2-292b-4dec-b504-2506a8c955b5",
   "metadata": {},
   "outputs": [
    {
     "name": "stdout",
     "output_type": "stream",
     "text": [
      "Hello\n",
      "Hello\n"
     ]
    }
   ],
   "source": [
    "#Single Line Comments\n",
    "print(\"Hello\")\n",
    "'''Multi\n",
    "Line Comments'''\n",
    "print(\"Hello\")"
   ]
  },
  {
   "cell_type": "markdown",
   "id": "16909a4f-fab1-4a50-bdb7-c8ddefbe8136",
   "metadata": {},
   "source": [
    "# Operations in Python"
   ]
  },
  {
   "cell_type": "code",
   "execution_count": 7,
   "id": "c977c3a0-cb74-4c80-aceb-c97fc98a45e1",
   "metadata": {},
   "outputs": [
    {
     "name": "stdin",
     "output_type": "stream",
     "text": [
      "Enter Number:  12\n",
      "Enter Name:  ss\n",
      "Enter Decimal Number:  12.0\n"
     ]
    },
    {
     "name": "stdout",
     "output_type": "stream",
     "text": [
      "<class 'int'>\n",
      "<class 'str'>\n",
      "<class 'float'>\n",
      "<class 'bool'>\n",
      "<class 'list'>\n",
      "<class 'tuple'>\n",
      "<class 'set'>\n",
      "<class 'dict'>\n"
     ]
    }
   ],
   "source": [
    "#Primitive Data Types:\n",
    "a=int(input(\"Enter Number: \"))\n",
    "b=input(\"Enter Name: \")\n",
    "c=float(input(\"Enter Decimal Number: \"))\n",
    "d=True\n",
    "print(type(a))\n",
    "print(type(b))\n",
    "print(type(c))\n",
    "print(type(d))\n",
    "\n",
    "#Non-Primitive Data Types:\n",
    "e=['Sweta',12,10.2,True]\n",
    "f=('Sweta',12,10.2,True)\n",
    "g={'Sweta',12,10.2,True}\n",
    "h={'Name':['abc','pqr','xyz'],'Roll_no':[12,13,14]}\n",
    "print(type(e))\n",
    "print(type(f))\n",
    "print(type(g))\n",
    "print(type(h))"
   ]
  },
  {
   "cell_type": "code",
   "execution_count": 26,
   "id": "a8c3c38b-41c6-41cf-b20e-e472feefed07",
   "metadata": {},
   "outputs": [
    {
     "name": "stdout",
     "output_type": "stream",
     "text": [
      "['Apple', 'Mango', 'Kiwi', 'Orange']\n",
      "Apple\n",
      "['Apple', 'Mango']\n",
      "['Mango', 'Kiwi']\n",
      "Orange\n",
      "['Apple', 'Mango', 'Kiwi']\n",
      "['Apple', 'Mango', 'Kiwi', 'Orange']\n",
      "['Orange', 'Kiwi', 'Mango', 'Apple']\n",
      "Kiwi\n",
      "['Orange', 'Mango']\n",
      "['Apple', 'Mango', 'Banana', 'Orange']\n",
      "['Apple', 'Mango', 'Banana', 'Kiwi', 'Orange']\n"
     ]
    }
   ],
   "source": [
    "fruits=['Apple','Mango','Kiwi','Orange']\n",
    "print(fruits)\n",
    "print(fruits[0])\n",
    "print(fruits[0:2])\n",
    "print(fruits[1:3])\n",
    "print(fruits[-1])\n",
    "print(fruits[0:3])\n",
    "print(fruits[:])\n",
    "print(fruits[::-1])\n",
    "print(fruits[-2])\n",
    "print(fruits[::-2])\n",
    "fruits[2]='Banana'\n",
    "print(fruits)\n",
    "fruits.insert(3,'Kiwi')\n",
    "print(fruits)"
   ]
  },
  {
   "cell_type": "code",
   "execution_count": 3,
   "id": "f9de3d75-7f84-4e1e-94d5-65c64809c344",
   "metadata": {},
   "outputs": [
    {
     "name": "stdout",
     "output_type": "stream",
     "text": [
      "2556931494272\n",
      "True\n",
      "['abc', 'pqr']\n"
     ]
    }
   ],
   "source": [
    "def r(x):\n",
    "    return x\n",
    "q=[\"abc\",\"pqr\"]\n",
    "print(id(q))\n",
    "print(q is r(q))\n",
    "print(r(q))"
   ]
  },
  {
   "cell_type": "code",
   "execution_count": 5,
   "id": "b08eb47b-fcd6-4982-9e79-b6fa852148ad",
   "metadata": {},
   "outputs": [
    {
     "name": "stdout",
     "output_type": "stream",
     "text": [
      "Hello!\n",
      "How are you?\n"
     ]
    }
   ],
   "source": [
    "with open(\"Demo1.txt\",\"w+\") as file:\n",
    "    file.write(\"Hello!\\nHow are you?\")\n",
    "    file.seek(0)\n",
    "    f=file.read()\n",
    "file.close()\n",
    "print(f)"
   ]
  },
  {
   "cell_type": "code",
   "execution_count": 6,
   "id": "7bfd54af-c035-460e-a7f8-dd2d26c4e740",
   "metadata": {},
   "outputs": [
    {
     "name": "stdout",
     "output_type": "stream",
     "text": [
      "Hello!\n",
      "How are you?\n",
      "Hope all are doing well in your life\n"
     ]
    }
   ],
   "source": [
    "with open(\"Demo1.txt\",\"a+\") as f:\n",
    "    f.write(\"\\nHope all are doing well in your life\")\n",
    "    f.seek(0)\n",
    "    content=f.read()\n",
    "f.close()\n",
    "print(content)"
   ]
  },
  {
   "cell_type": "code",
   "execution_count": null,
   "id": "6539c245-72c1-4669-a53b-577547e71458",
   "metadata": {},
   "outputs": [],
   "source": []
  },
  {
   "cell_type": "code",
   "execution_count": null,
   "id": "9c825da4-f16e-4097-b112-37d64e14b069",
   "metadata": {},
   "outputs": [],
   "source": []
  },
  {
   "cell_type": "code",
   "execution_count": null,
   "id": "da6b8917-2fc9-4ef4-9a68-d78305d1bab2",
   "metadata": {},
   "outputs": [],
   "source": []
  },
  {
   "cell_type": "code",
   "execution_count": null,
   "id": "cbda246c-e244-4b10-a21b-1a8fd1055f3c",
   "metadata": {},
   "outputs": [],
   "source": []
  }
 ],
 "metadata": {
  "kernelspec": {
   "display_name": "Python 3 (ipykernel)",
   "language": "python",
   "name": "python3"
  },
  "language_info": {
   "codemirror_mode": {
    "name": "ipython",
    "version": 3
   },
   "file_extension": ".py",
   "mimetype": "text/x-python",
   "name": "python",
   "nbconvert_exporter": "python",
   "pygments_lexer": "ipython3",
   "version": "3.11.4"
  }
 },
 "nbformat": 4,
 "nbformat_minor": 5
}
