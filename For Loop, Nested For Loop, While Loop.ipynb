{
 "cells": [
  {
   "cell_type": "markdown",
   "id": "700d0f4c-144c-41b8-ac93-f1a5f635487b",
   "metadata": {},
   "source": [
    "# For Loop in Python:"
   ]
  },
  {
   "cell_type": "markdown",
   "id": "8c817aa8-d17f-4cff-ba87-656957f00dde",
   "metadata": {},
   "source": [
    "## 1) Print all natural number from 1 to n."
   ]
  },
  {
   "cell_type": "code",
   "execution_count": 3,
   "id": "a9265e50-027f-46f4-99e6-c9d5aab7e9ef",
   "metadata": {},
   "outputs": [
    {
     "name": "stdin",
     "output_type": "stream",
     "text": [
      "Enter number:  10\n"
     ]
    },
    {
     "name": "stdout",
     "output_type": "stream",
     "text": [
      "1\n",
      "2\n",
      "3\n",
      "4\n",
      "5\n",
      "6\n",
      "7\n",
      "8\n",
      "9\n",
      "10\n"
     ]
    }
   ],
   "source": [
    "n=int(input(\"Enter number: \"))\n",
    "for i in range(1,n+1):\n",
    "    print(i)"
   ]
  },
  {
   "cell_type": "markdown",
   "id": "6c6ad42d-7534-48ea-9be5-2f864365f268",
   "metadata": {},
   "source": [
    "## 2) Print all natural numbers in reverse."
   ]
  },
  {
   "cell_type": "code",
   "execution_count": 2,
   "id": "43bf0046-3fa6-4270-8d81-7683c4e33dc6",
   "metadata": {},
   "outputs": [
    {
     "name": "stdin",
     "output_type": "stream",
     "text": [
      "Enter Number:  10\n"
     ]
    },
    {
     "name": "stdout",
     "output_type": "stream",
     "text": [
      "10\n",
      "9\n",
      "8\n",
      "7\n",
      "6\n",
      "5\n",
      "4\n",
      "3\n",
      "2\n",
      "1\n"
     ]
    }
   ],
   "source": [
    "n=int(input(\"Enter Number: \"))\n",
    "for i in range(n,0,-1):\n",
    "    print(i)"
   ]
  },
  {
   "cell_type": "markdown",
   "id": "e42365e1-05b4-4b23-bb09-e265fed50c09",
   "metadata": {},
   "source": [
    "## 3) Print all even numbers in reverse."
   ]
  },
  {
   "cell_type": "code",
   "execution_count": 23,
   "id": "e99b178d-a7d6-4d7e-8ed8-274a5774c0b9",
   "metadata": {},
   "outputs": [
    {
     "name": "stdin",
     "output_type": "stream",
     "text": [
      "Enter number:  10\n"
     ]
    },
    {
     "name": "stdout",
     "output_type": "stream",
     "text": [
      "10\n",
      "8\n",
      "6\n",
      "4\n",
      "2\n"
     ]
    }
   ],
   "source": [
    "n=int(input(\"Enter number: \"))\n",
    "for i in range(n,0,-2):\n",
    "    print(i)"
   ]
  },
  {
   "cell_type": "markdown",
   "id": "cfd79f2b-ad20-47f7-90d1-1acbfb39da73",
   "metadata": {},
   "source": [
    "## 4) Print all odd number in reverse."
   ]
  },
  {
   "cell_type": "code",
   "execution_count": 21,
   "id": "04126a38-5df2-49da-9e61-aab5f9b130c0",
   "metadata": {
    "jp-MarkdownHeadingCollapsed": true
   },
   "outputs": [
    {
     "name": "stdin",
     "output_type": "stream",
     "text": [
      "Enter number:  10\n"
     ]
    },
    {
     "name": "stdout",
     "output_type": "stream",
     "text": [
      "9\n",
      "7\n",
      "5\n",
      "3\n",
      "1\n"
     ]
    }
   ],
   "source": [
    "n=int(input(\"Enter number: \"))\n",
    "for i in range(n-1,0,-2):\n",
    "    print(i)"
   ]
  },
  {
   "cell_type": "markdown",
   "id": "57d52056-6dc8-4348-9f61-048e3ba887a3",
   "metadata": {},
   "source": [
    "## 5)Print all even number between 1 to 100."
   ]
  },
  {
   "cell_type": "code",
   "execution_count": 25,
   "id": "527c0bf0-2507-450b-85b2-b00a3973c3d8",
   "metadata": {},
   "outputs": [
    {
     "name": "stdout",
     "output_type": "stream",
     "text": [
      "2\n",
      "4\n",
      "6\n",
      "8\n",
      "10\n",
      "12\n",
      "14\n",
      "16\n",
      "18\n",
      "20\n",
      "22\n",
      "24\n",
      "26\n",
      "28\n",
      "30\n",
      "32\n",
      "34\n",
      "36\n",
      "38\n",
      "40\n",
      "42\n",
      "44\n",
      "46\n",
      "48\n",
      "50\n",
      "52\n",
      "54\n",
      "56\n",
      "58\n",
      "60\n",
      "62\n",
      "64\n",
      "66\n",
      "68\n",
      "70\n",
      "72\n",
      "74\n",
      "76\n",
      "78\n",
      "80\n",
      "82\n",
      "84\n",
      "86\n",
      "88\n",
      "90\n",
      "92\n",
      "94\n",
      "96\n",
      "98\n",
      "100\n"
     ]
    }
   ],
   "source": [
    "for i in range(2,101,2):\n",
    "    print(i)"
   ]
  },
  {
   "cell_type": "markdown",
   "id": "d455874d-a89a-4aef-a3e9-f42b5e66bbe0",
   "metadata": {},
   "source": [
    "## 6) Print all odd number from 1 to 100."
   ]
  },
  {
   "cell_type": "code",
   "execution_count": 26,
   "id": "8cd0ec3e-c7f4-4d43-aa98-6c2637071444",
   "metadata": {},
   "outputs": [
    {
     "name": "stdout",
     "output_type": "stream",
     "text": [
      "1\n",
      "3\n",
      "5\n",
      "7\n",
      "9\n",
      "11\n",
      "13\n",
      "15\n",
      "17\n",
      "19\n",
      "21\n",
      "23\n",
      "25\n",
      "27\n",
      "29\n",
      "31\n",
      "33\n",
      "35\n",
      "37\n",
      "39\n",
      "41\n",
      "43\n",
      "45\n",
      "47\n",
      "49\n",
      "51\n",
      "53\n",
      "55\n",
      "57\n",
      "59\n",
      "61\n",
      "63\n",
      "65\n",
      "67\n",
      "69\n",
      "71\n",
      "73\n",
      "75\n",
      "77\n",
      "79\n",
      "81\n",
      "83\n",
      "85\n",
      "87\n",
      "89\n",
      "91\n",
      "93\n",
      "95\n",
      "97\n",
      "99\n"
     ]
    }
   ],
   "source": [
    "for i in range(1,100,2):\n",
    "    print(i)"
   ]
  },
  {
   "cell_type": "markdown",
   "id": "ce853812-cf44-4c6d-8e4d-67eb8e62b5bf",
   "metadata": {},
   "source": [
    "## 7) Print Multiplication of any number."
   ]
  },
  {
   "cell_type": "code",
   "execution_count": 27,
   "id": "b6ef0423-ca68-4f12-b545-77fa2bc8c7b5",
   "metadata": {},
   "outputs": [
    {
     "name": "stdin",
     "output_type": "stream",
     "text": [
      "Enter number:  2\n"
     ]
    },
    {
     "name": "stdout",
     "output_type": "stream",
     "text": [
      "2*1=2\n",
      "2*2=4\n",
      "2*3=6\n",
      "2*4=8\n",
      "2*5=10\n",
      "2*6=12\n",
      "2*7=14\n",
      "2*8=16\n",
      "2*9=18\n",
      "2*10=20\n"
     ]
    }
   ],
   "source": [
    "n=int(input(\"Enter number: \"))\n",
    "for i in range(1,11):\n",
    "    print(f\"{n}*{i}={n*i}\")"
   ]
  },
  {
   "cell_type": "markdown",
   "id": "ebcd433d-63ad-4d80-8a0c-fd7e5993656e",
   "metadata": {},
   "source": [
    "## 8) Write a python program to calculate the sum of all natural numbers from 1 to given number. "
   ]
  },
  {
   "cell_type": "code",
   "execution_count": 30,
   "id": "5e0f6dd4-dd18-4c36-b300-c9a8154fd7e3",
   "metadata": {},
   "outputs": [
    {
     "name": "stdin",
     "output_type": "stream",
     "text": [
      "Enter number: 10\n"
     ]
    },
    {
     "name": "stdout",
     "output_type": "stream",
     "text": [
      "1\n",
      "2\n",
      "3\n",
      "4\n",
      "5\n",
      "6\n",
      "7\n",
      "8\n",
      "9\n",
      "10\n",
      "Sum of all 10 numbers= 55\n"
     ]
    }
   ],
   "source": [
    "n=int(input(\"Enter number:\"))\n",
    "sum=0\n",
    "for i in range(1,n+1):\n",
    "    print(i)\n",
    "    sum=sum+i\n",
    "print(f\"Sum of all {n} numbers= {sum}\")    "
   ]
  },
  {
   "cell_type": "markdown",
   "id": "d2a1892f-36f3-4732-9adc-0f5c3240cd7d",
   "metadata": {},
   "source": [
    "## 9) Write a python program to calculate the sum of all odd number with in the given range."
   ]
  },
  {
   "cell_type": "code",
   "execution_count": 34,
   "id": "df014359-32cf-4766-a5ec-df5137de2842",
   "metadata": {},
   "outputs": [
    {
     "name": "stdin",
     "output_type": "stream",
     "text": [
      "Enter number:  10\n"
     ]
    },
    {
     "name": "stdout",
     "output_type": "stream",
     "text": [
      "1\n",
      "3\n",
      "5\n",
      "7\n",
      "9\n",
      "Sum of all odd numbers= 25\n"
     ]
    }
   ],
   "source": [
    "n=int(input(\"Enter number: \"))\n",
    "sum=0\n",
    "for i in range(1,n+1,2):\n",
    "    print(i)\n",
    "    sum=sum+i\n",
    "print(f\"Sum of all odd numbers= {sum}\")    "
   ]
  },
  {
   "cell_type": "markdown",
   "id": "dfae8906-2896-4163-b176-408799093a75",
   "metadata": {},
   "source": [
    "## 10) Write a python program to calculate the sum of the number which are divisible by 5 and 11."
   ]
  },
  {
   "cell_type": "code",
   "execution_count": 35,
   "id": "28c32bb1-1fbd-4985-a28a-bdf7e2e0ff88",
   "metadata": {},
   "outputs": [
    {
     "name": "stdin",
     "output_type": "stream",
     "text": [
      "Enter number:  1000\n"
     ]
    },
    {
     "name": "stdout",
     "output_type": "stream",
     "text": [
      "55|55\n",
      "110|165\n",
      "165|330\n",
      "220|550\n",
      "275|825\n",
      "330|1155\n",
      "385|1540\n",
      "440|1980\n",
      "495|2475\n",
      "550|3025\n",
      "605|3630\n",
      "660|4290\n",
      "715|5005\n",
      "770|5775\n",
      "825|6600\n",
      "880|7480\n",
      "935|8415\n",
      "990|9405\n"
     ]
    }
   ],
   "source": [
    "n=int(input(\"Enter number: \"))\n",
    "sum=0\n",
    "for i in range(1,n+1):\n",
    "    if i%5==0 and i%11==0:\n",
    "        sum=sum+i\n",
    "        print(f\"{i}|{sum}\")"
   ]
  },
  {
   "cell_type": "markdown",
   "id": "9f8bf8d1-0fff-44f4-877b-bd530c66ee4e",
   "metadata": {},
   "source": [
    "## 11) Prime number program."
   ]
  },
  {
   "cell_type": "code",
   "execution_count": 40,
   "id": "ddd17b6d-6298-4ac8-9742-570295764620",
   "metadata": {},
   "outputs": [
    {
     "name": "stdin",
     "output_type": "stream",
     "text": [
      "Enter number:  49\n"
     ]
    },
    {
     "name": "stdout",
     "output_type": "stream",
     "text": [
      "49 is not a prime number.\n"
     ]
    }
   ],
   "source": [
    "flag=0\n",
    "n=int(input(\"Enter number: \"))\n",
    "m=int(n/2)\n",
    "for i in range(2,m+1):\n",
    "    if n%i==0:\n",
    "        print(f\"{n} is not a prime number.\")\n",
    "        flag=1\n",
    "        break\n",
    "if flag==0:\n",
    "    print(f\"{n} is prime number.\")"
   ]
  },
  {
   "cell_type": "markdown",
   "id": "30e2f48d-8e26-4401-9848-210f90f9a865",
   "metadata": {},
   "source": [
    "## 12) Print Prime numbers 1 to 100."
   ]
  },
  {
   "cell_type": "code",
   "execution_count": 54,
   "id": "a9eed16a-930f-4a3c-9acb-d3afc6d5c499",
   "metadata": {},
   "outputs": [
    {
     "name": "stdout",
     "output_type": "stream",
     "text": [
      "2\n",
      "3\n",
      "5\n",
      "7\n",
      "11\n",
      "13\n",
      "17\n",
      "19\n",
      "23\n",
      "29\n",
      "31\n",
      "37\n",
      "41\n",
      "43\n",
      "47\n",
      "53\n",
      "59\n",
      "61\n",
      "67\n",
      "71\n",
      "73\n",
      "79\n",
      "83\n",
      "89\n",
      "97\n"
     ]
    }
   ],
   "source": [
    "isprime=True\n",
    "for i in range(2,101):\n",
    "    for j in range(2,101):\n",
    "        if i!=j and i%j==0:\n",
    "            isprime=False\n",
    "            break\n",
    "    if isprime==True:\n",
    "        print(i)\n",
    "    isprime=True    "
   ]
  },
  {
   "cell_type": "markdown",
   "id": "ce7ce54a-7045-4bef-ad85-aae38af2079b",
   "metadata": {},
   "source": [
    "## Calculator:"
   ]
  },
  {
   "cell_type": "code",
   "execution_count": 61,
   "id": "68d6ddbe-61be-4009-9916-ab066cd8de2a",
   "metadata": {},
   "outputs": [
    {
     "name": "stdin",
     "output_type": "stream",
     "text": [
      "Enter First number:  22\n",
      "Enter Operator:  )\n",
      "Enter Second number:  21\n"
     ]
    },
    {
     "name": "stdout",
     "output_type": "stream",
     "text": [
      "Invalid Operator\n"
     ]
    }
   ],
   "source": [
    "n1=int(input(\"Enter First number: \"))\n",
    "n2=input(\"Enter Operator: \")\n",
    "n3=int(input(\"Enter Second number: \"))\n",
    "if n2==\"+\" or n2==\"-\" or n2==\"*\" or n2==\"**\" or n2==\"/\" or n2==\"//\":\n",
    "    if n2==\"+\":\n",
    "        print(f\"Addition of {n1} and {n3}= {n1+n3}\")\n",
    "    elif n2==\"-\":\n",
    "        print(f\"Subtraction of {n1} and {n3}= {n1-n3}\")\n",
    "    elif n2==\"*\":\n",
    "        print(f\"Multiplication of {n1} and {n3}= {n1*n3}\")\n",
    "    elif n2==\"**\":\n",
    "        print(f\"Exponent of {n1} and {n3}= {n1**n3}\")\n",
    "    elif n2==\"/\":\n",
    "        print(f\"Division of {n1} and {n3}= {n1/n3}\")\n",
    "    elif n2==\"//\":\n",
    "        print(f\"Floor Division of {n1} and {n3}= {n1//n3}\")\n",
    "else:\n",
    "    print(\"Invalid Operator\")"
   ]
  },
  {
   "cell_type": "markdown",
   "id": "912fd487-0f1f-43bb-b593-1d7a35faa5c9",
   "metadata": {},
   "source": [
    "# Nested-For Loop:"
   ]
  },
  {
   "cell_type": "code",
   "execution_count": 17,
   "id": "93b561bf-087f-4f4e-9965-cfe324d5ea29",
   "metadata": {},
   "outputs": [
    {
     "name": "stdout",
     "output_type": "stream",
     "text": [
      "['Madhuri', 'Prerana']\n",
      "['Sweta', 'Kavya']\n"
     ]
    }
   ],
   "source": [
    "list1=[['Sweta','Madhuri'],['Kavya','Prerana']]\n",
    "list2=[]\n",
    "list3=[]\n",
    "for i in list1:\n",
    "    for j in i:\n",
    "        if j[0]=='M' or j[0]=='P':\n",
    "            list2.append(j)\n",
    "        else:\n",
    "           list3.append(j)\n",
    "print(list2)\n",
    "print(list3)"
   ]
  },
  {
   "cell_type": "code",
   "execution_count": 45,
   "id": "8f13c6f4-c6a9-469c-b1c2-5491e46e06dc",
   "metadata": {},
   "outputs": [
    {
     "name": "stdout",
     "output_type": "stream",
     "text": [
      "* * * * * \n",
      "* * * * * \n",
      "* * * * * \n",
      "* * * * * \n",
      "* * * * * \n"
     ]
    }
   ],
   "source": [
    "for i in range(1,6):\n",
    "    for j in range(1,6):\n",
    "        print('*',end=\" \")\n",
    "    print()"
   ]
  },
  {
   "cell_type": "code",
   "execution_count": 46,
   "id": "0672daf7-3acd-40c7-ac1e-c6efa3867207",
   "metadata": {},
   "outputs": [
    {
     "name": "stdout",
     "output_type": "stream",
     "text": [
      "* \n",
      "* * \n",
      "* * * \n",
      "* * * * \n",
      "* * * * * \n"
     ]
    }
   ],
   "source": [
    "for i in range(1,6):\n",
    "    for j in range(1,i+1):\n",
    "        print('*',end=\" \")\n",
    "    print()    "
   ]
  },
  {
   "cell_type": "code",
   "execution_count": 47,
   "id": "b968c0ab-278d-4ef8-bd2e-046de6593d03",
   "metadata": {},
   "outputs": [
    {
     "name": "stdout",
     "output_type": "stream",
     "text": [
      "* \n",
      "* * \n",
      "* * * \n",
      "* * * * \n",
      "* * * * * \n"
     ]
    }
   ],
   "source": [
    "for i in range(1,6):\n",
    "    for j in range(i,0,-1):\n",
    "        print('*',end=\" \")\n",
    "    print()    "
   ]
  },
  {
   "cell_type": "code",
   "execution_count": 48,
   "id": "ed17cd0d-be81-4f0b-9d4c-60ea6f297cb7",
   "metadata": {},
   "outputs": [
    {
     "name": "stdout",
     "output_type": "stream",
     "text": [
      "* * * * * \n",
      "* * * * \n",
      "* * * \n",
      "* * \n",
      "* \n"
     ]
    }
   ],
   "source": [
    "for i in range(5,0,-1):\n",
    "    for j in range(1,i+1):\n",
    "        print('*',end=\" \")\n",
    "    print()    "
   ]
  },
  {
   "cell_type": "code",
   "execution_count": 49,
   "id": "90854d03-3de0-47d6-a7fd-201e9fdecea5",
   "metadata": {},
   "outputs": [
    {
     "name": "stdout",
     "output_type": "stream",
     "text": [
      "* \n",
      "* * \n",
      "* * * \n",
      "* * * * \n",
      "* * * * * \n",
      "* * * * \n",
      "* * * \n",
      "* * \n",
      "* \n"
     ]
    }
   ],
   "source": [
    "for i in range(1,6):\n",
    "    for j in range(1,i+1):\n",
    "        print('*',end=\" \")\n",
    "    print()\n",
    "for i in range(4,0,-1):\n",
    "    for j in range(1,i+1):\n",
    "        print('*',end=\" \")\n",
    "    print()    "
   ]
  },
  {
   "cell_type": "code",
   "execution_count": 4,
   "id": "991b4876-8020-4cf9-962a-6282f1d8d91c",
   "metadata": {},
   "outputs": [
    {
     "name": "stdin",
     "output_type": "stream",
     "text": [
      "Enter Price:  10\n",
      "Enter cost per chocolate:  1\n",
      "Enter number of wrapper to get extra chocolate:  3\n"
     ]
    },
    {
     "name": "stdout",
     "output_type": "stream",
     "text": [
      "Customer got 85 chocolates\n"
     ]
    }
   ],
   "source": [
    "rupees_we_have=int(input(\"Enter Price: \"))\n",
    "cost_per_choc=int(input(\"Enter cost per chocolate: \"))\n",
    "no_of_wrap_get_one_choc=int(input(\"Enter number of wrapper to get extra chocolate: \"))\n",
    "choc=rupees_we_have//cost_per_choc\n",
    "wrappers=rupees_we_have//no_of_wrap_get_one_choc\n",
    "newchoc=0\n",
    "while choc!=0:\n",
    "    newchoc+=choc+wrappers\n",
    "    choc-=1\n",
    "print(f\"Customer got {newchoc} chocolates\")    "
   ]
  },
  {
   "cell_type": "code",
   "execution_count": null,
   "id": "dbc39741-3e9d-4804-8096-eefc91f4e5b2",
   "metadata": {},
   "outputs": [],
   "source": []
  },
  {
   "cell_type": "code",
   "execution_count": null,
   "id": "a4d9dfb9-3330-4cda-94c0-353386a5a848",
   "metadata": {},
   "outputs": [],
   "source": []
  },
  {
   "cell_type": "code",
   "execution_count": null,
   "id": "6a5920ba-c002-4006-bfdc-246db6016df5",
   "metadata": {},
   "outputs": [],
   "source": []
  },
  {
   "cell_type": "code",
   "execution_count": null,
   "id": "185c106e-eaf3-42d5-a56a-9cd8252f1baf",
   "metadata": {},
   "outputs": [],
   "source": []
  },
  {
   "cell_type": "code",
   "execution_count": null,
   "id": "ebcf2ef8-8581-40b4-93ff-f957aa13252b",
   "metadata": {},
   "outputs": [],
   "source": []
  },
  {
   "cell_type": "code",
   "execution_count": null,
   "id": "1ddeab65-beba-4454-829b-4acf1b087a74",
   "metadata": {},
   "outputs": [],
   "source": []
  }
 ],
 "metadata": {
  "kernelspec": {
   "display_name": "Python 3 (ipykernel)",
   "language": "python",
   "name": "python3"
  },
  "language_info": {
   "codemirror_mode": {
    "name": "ipython",
    "version": 3
   },
   "file_extension": ".py",
   "mimetype": "text/x-python",
   "name": "python",
   "nbconvert_exporter": "python",
   "pygments_lexer": "ipython3",
   "version": "3.11.4"
  }
 },
 "nbformat": 4,
 "nbformat_minor": 5
}
