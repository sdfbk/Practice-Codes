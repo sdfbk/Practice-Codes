{
 "cells": [
  {
   "cell_type": "code",
   "execution_count": 3,
   "id": "69e03da1-6599-40d4-b34e-e010cf622d9c",
   "metadata": {},
   "outputs": [
    {
     "name": "stdout",
     "output_type": "stream",
     "text": [
      "Total counts of Apples = 8\n",
      "Total counts of Oranges = 7\n"
     ]
    }
   ],
   "source": [
    "buckets = [['A','A','A','A','A'],['O','O','O','O','O'],['A','A','O','A','O']]\n",
    "count_apple = []\n",
    "count_orange = []\n",
    "for i in buckets:\n",
    "    for j in i:\n",
    "        if j == 'A':\n",
    "            count_apple.append(j)\n",
    "        else:\n",
    "            count_orange.append(j)\n",
    "print(f\"Total counts of Apples = {len(count_apple)}\")\n",
    "print(f\"Total counts of Oranges = {len(count_orange)}\")"
   ]
  },
  {
   "cell_type": "code",
   "execution_count": 7,
   "id": "9ddbabe9-754a-474c-a27b-93e9791033ef",
   "metadata": {},
   "outputs": [
    {
     "name": "stdout",
     "output_type": "stream",
     "text": [
      "Total counts of Apples and Oranges are (8, 7) respectively\n"
     ]
    }
   ],
   "source": [
    "def Total_counts_of_fruits(buckets):\n",
    "    count_apple = []\n",
    "    count_orange = []\n",
    "    for i in buckets:\n",
    "        for j in i:\n",
    "            if j == 'A':\n",
    "                count_apple.append(j)\n",
    "            else:\n",
    "                count_orange.append(j)\n",
    "    return len(count_apple),len(count_orange)\n",
    "    '''print(f\"Total counts of Apples = {len(count_apple)}\")\n",
    "    print(f\"Total counts of Oranges = {len(count_orange)}\")'''\n",
    "buckets = [['A','A','A','A','A'],['O','O','O','O','O'],['A','A','O','A','O']]\n",
    "print(f\"Total counts of Apples and Oranges are {Total_counts_of_fruits(buckets)} respectively\")"
   ]
  },
  {
   "cell_type": "code",
   "execution_count": 49,
   "id": "a0017a12-8b4c-4254-adc8-0879303f5c54",
   "metadata": {},
   "outputs": [
    {
     "name": "stdout",
     "output_type": "stream",
     "text": [
      "(64, 1, 64, 1)\n"
     ]
    }
   ],
   "source": [
    "list1 = [8,1,8,1]\n",
    "sq = tuple(map(lambda x:x**2,list1))\n",
    "print(sq)"
   ]
  },
  {
   "cell_type": "code",
   "execution_count": 48,
   "id": "d1cad1cb-84d9-4121-8666-fc336fe6e707",
   "metadata": {},
   "outputs": [
    {
     "name": "stdin",
     "output_type": "stream",
     "text": [
      " 222\n"
     ]
    },
    {
     "name": "stdout",
     "output_type": "stream",
     "text": [
      "4\n",
      "4\n",
      "4\n"
     ]
    }
   ],
   "source": [
    "l1 = list(input())\n",
    "for i in l1:\n",
    "    print(int(i)**2)"
   ]
  }
 ],
 "metadata": {
  "kernelspec": {
   "display_name": "Python 3 (ipykernel)",
   "language": "python",
   "name": "python3"
  },
  "language_info": {
   "codemirror_mode": {
    "name": "ipython",
    "version": 3
   },
   "file_extension": ".py",
   "mimetype": "text/x-python",
   "name": "python",
   "nbconvert_exporter": "python",
   "pygments_lexer": "ipython3",
   "version": "3.11.4"
  }
 },
 "nbformat": 4,
 "nbformat_minor": 5
}
