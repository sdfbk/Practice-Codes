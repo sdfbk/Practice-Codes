{
 "cells": [
  {
   "cell_type": "markdown",
   "id": "609d3a1f-fe37-49c0-85e8-13ea676abf8e",
   "metadata": {},
   "source": [
    "# Rock,Paper and Scissor"
   ]
  },
  {
   "cell_type": "code",
   "execution_count": 1,
   "id": "a4bc3f2c-4623-4f06-a20e-f1d1fb7036d0",
   "metadata": {},
   "outputs": [
    {
     "name": "stdin",
     "output_type": "stream",
     "text": [
      "Select your choice {'Rock','Paper','Scissor'}:  Rock\n"
     ]
    },
    {
     "name": "stdout",
     "output_type": "stream",
     "text": [
      "user select Rock and computer select Scissor user win the match\n"
     ]
    },
    {
     "name": "stdin",
     "output_type": "stream",
     "text": [
      "Select your choice {'Rock','Paper','Scissor'}:  Rock\n"
     ]
    },
    {
     "name": "stdout",
     "output_type": "stream",
     "text": [
      "user select Rock and computer select Scissor user win the match\n"
     ]
    },
    {
     "name": "stdin",
     "output_type": "stream",
     "text": [
      "Select your choice {'Rock','Paper','Scissor'}:  Scissor\n"
     ]
    },
    {
     "name": "stdout",
     "output_type": "stream",
     "text": [
      "user select Scissor and computer select Scissor match draw\n",
      "User win the game\n"
     ]
    }
   ],
   "source": [
    "import random\n",
    "from random import choice\n",
    "def rock_paper_scissor(ch_list,limit,c,c1,c2):\n",
    "    comp=choice(ch_list)\n",
    "    while limit>0:\n",
    "        user=input(\"Select your choice {'Rock','Paper','Scissor'}: \")\n",
    "        if user==comp:\n",
    "            print(f\"user select {user} and computer select {comp} match draw\")\n",
    "            c+=1\n",
    "        elif user==\"Rock\" and comp==\"Paper\" :\n",
    "                print(f\"user select {user} and computer select {comp} user win the match\")\n",
    "                c1+=1\n",
    "        elif user==\"Scissor\" and comp==\"Paper\" :\n",
    "                print(f\"user select {user} and computer select {comp} user win the match\")\n",
    "                c1+=1\n",
    "        elif user==\"Rock\" and comp==\"Scissor\" :\n",
    "                print(f\"user select {user} and computer select {comp} user win the match\")\n",
    "                c1+=1\n",
    "        else:\n",
    "            print(f\"user select {user} and computer select {comp} computer win the match\")\n",
    "            c2+=1\n",
    "        limit-=1\n",
    "    if c>c1:\n",
    "        if c>c2:\n",
    "            print(\"Match Draw\")\n",
    "        else:\n",
    "            print(\"Computer win the game\")\n",
    "    else:\n",
    "        if c1>c2:\n",
    "            print(\"User win the game\")\n",
    "        else:\n",
    "            print(\"Computer win the game\")\n",
    "ch_list=[\"Rock\",\"Paper\",\"Scissor\"]\n",
    "limit=3\n",
    "c=0;c1=0;c2=0\n",
    "rock_paper_scissor(ch_list,limit,c,c1,c2)"
   ]
  },
  {
   "cell_type": "code",
   "execution_count": null,
   "id": "a4b92a72-fbbd-49c0-88ee-2038a7bc0757",
   "metadata": {},
   "outputs": [],
   "source": []
  }
 ],
 "metadata": {
  "kernelspec": {
   "display_name": "Python 3 (ipykernel)",
   "language": "python",
   "name": "python3"
  },
  "language_info": {
   "codemirror_mode": {
    "name": "ipython",
    "version": 3
   },
   "file_extension": ".py",
   "mimetype": "text/x-python",
   "name": "python",
   "nbconvert_exporter": "python",
   "pygments_lexer": "ipython3",
   "version": "3.11.4"
  }
 },
 "nbformat": 4,
 "nbformat_minor": 5
}
