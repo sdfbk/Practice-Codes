{
 "cells": [
  {
   "cell_type": "code",
   "execution_count": 5,
   "id": "c72e953b-b131-4010-b494-2e333e9c465a",
   "metadata": {},
   "outputs": [
    {
     "name": "stdin",
     "output_type": "stream",
     "text": [
      "Enter String:  Hsjkdfhi\n"
     ]
    },
    {
     "name": "stdout",
     "output_type": "stream",
     "text": [
      "No match found\n"
     ]
    }
   ],
   "source": [
    "import re\n",
    "text=input(\"Enter String: \")\n",
    "pattern=r\"is\"\n",
    "match=re.search(pattern,text)\n",
    "if match:\n",
    "    print(match)\n",
    "else:\n",
    "    print(\"No match found\")"
   ]
  },
  {
   "cell_type": "code",
   "execution_count": 4,
   "id": "0fac92a8-939e-453c-ace0-128d823a8bb4",
   "metadata": {},
   "outputs": [
    {
     "name": "stdin",
     "output_type": "stream",
     "text": [
      "Enter String:  Hello\n"
     ]
    },
    {
     "name": "stdout",
     "output_type": "stream",
     "text": [
      "No match found\n"
     ]
    }
   ],
   "source": [
    "import re\n",
    "text=input(\"Enter String: \")\n",
    "pattern=r\"the\"\n",
    "match=re.findall(pattern,text)\n",
    "if match:\n",
    "    print(match)\n",
    "else:\n",
    "    print(\"No match found\")"
   ]
  },
  {
   "cell_type": "code",
   "execution_count": 6,
   "id": "406048a3-cac5-41df-a7c8-9030f7a43884",
   "metadata": {},
   "outputs": [
    {
     "name": "stdin",
     "output_type": "stream",
     "text": [
      "Enter String:  asd\n"
     ]
    }
   ],
   "source": [
    "import re"
   ]
  },
  {
   "cell_type": "code",
   "execution_count": 8,
   "id": "db3e2f94-2b6e-4ffd-87e3-1064c956c90a",
   "metadata": {},
   "outputs": [
    {
     "name": "stdin",
     "output_type": "stream",
     "text": [
      "Enter String:  Hello Bour jhdqa\n"
     ]
    },
    {
     "name": "stdout",
     "output_type": "stream",
     "text": [
      "['e', 'j', 'h', 'd']\n"
     ]
    }
   ],
   "source": [
    "text=input(\"Enter String: \")\n",
    "pattern=r\"[b-j]\"\n",
    "match=re.findall(pattern,text)\n",
    "print(match)"
   ]
  },
  {
   "cell_type": "code",
   "execution_count": 12,
   "id": "e0c8c197-28f0-4f1c-b8da-f03b41726094",
   "metadata": {},
   "outputs": [
    {
     "name": "stdin",
     "output_type": "stream",
     "text": [
      "Enter String:  sdf45\n"
     ]
    },
    {
     "name": "stdout",
     "output_type": "stream",
     "text": [
      "['4', '5']\n"
     ]
    }
   ],
   "source": [
    "text=input(\"Enter String: \")\n",
    "pattern=r\"\\d\"\n",
    "match=re.findall(pattern,text)\n",
    "print(match)"
   ]
  },
  {
   "cell_type": "code",
   "execution_count": 18,
   "id": "17e34b89-f64a-49a1-9b4b-88b5d36d69b8",
   "metadata": {},
   "outputs": [
    {
     "name": "stdin",
     "output_type": "stream",
     "text": [
      "Enter String:  Hello\n"
     ]
    },
    {
     "name": "stdout",
     "output_type": "stream",
     "text": [
      "['Hell']\n"
     ]
    }
   ],
   "source": [
    "text=input(\"Enter String: \")\n",
    "pattern=r\"H..l\"\n",
    "match=re.findall(pattern,text)\n",
    "print(match)"
   ]
  },
  {
   "cell_type": "code",
   "execution_count": 22,
   "id": "47b65401-36a3-4d64-9468-63985945a739",
   "metadata": {},
   "outputs": [
    {
     "name": "stdin",
     "output_type": "stream",
     "text": [
      "Enter String:  Hkdjf\n"
     ]
    },
    {
     "name": "stdout",
     "output_type": "stream",
     "text": [
      "<re.Match object; span=(0, 1), match='H'>\n"
     ]
    }
   ],
   "source": [
    "text=input(\"Enter String: \")\n",
    "pattern=r\"^H\"\n",
    "match=re.search(pattern,text)\n",
    "print(match)"
   ]
  },
  {
   "cell_type": "code",
   "execution_count": 23,
   "id": "2b990b8a-f041-4a32-91c8-b3f113f2b245",
   "metadata": {},
   "outputs": [
    {
     "name": "stdin",
     "output_type": "stream",
     "text": [
      "Enter String:  Hello ok\n"
     ]
    },
    {
     "name": "stdout",
     "output_type": "stream",
     "text": [
      "['k']\n"
     ]
    }
   ],
   "source": [
    "text=input(\"Enter String: \")\n",
    "pattern=r\"k$\"\n",
    "match=re.findall(pattern,text)\n",
    "print(match)"
   ]
  },
  {
   "cell_type": "code",
   "execution_count": 28,
   "id": "12f65bf5-7c91-4081-8c89-8f4009333119",
   "metadata": {},
   "outputs": [
    {
     "name": "stdin",
     "output_type": "stream",
     "text": [
      "Enter String:  Heo\n",
      "Enter String:  Helo\n",
      "Enter String:  Hello\n"
     ]
    },
    {
     "name": "stdout",
     "output_type": "stream",
     "text": [
      "['Heo']\n",
      "['Helo']\n",
      "['Hello']\n"
     ]
    }
   ],
   "source": [
    "text=input(\"Enter String: \")\n",
    "text1=input(\"Enter String: \")\n",
    "text2=input(\"Enter String: \")\n",
    "pattern=r\"H..*o\"\n",
    "match=re.findall(pattern,text)\n",
    "match1=re.findall(pattern,text1)\n",
    "match2=re.findall(pattern,text2)\n",
    "print(match)\n",
    "print(match1)\n",
    "print(match2)"
   ]
  },
  {
   "cell_type": "code",
   "execution_count": 29,
   "id": "6ff9d5d6-3999-4e9b-872f-05b6da21fba4",
   "metadata": {},
   "outputs": [
    {
     "name": "stdin",
     "output_type": "stream",
     "text": [
      "Enter String:  Heo\n",
      "Enter String:  Helo\n",
      "Enter String:  Hello\n"
     ]
    },
    {
     "name": "stdout",
     "output_type": "stream",
     "text": [
      "[]\n",
      "['Helo']\n",
      "['Hello']\n"
     ]
    }
   ],
   "source": [
    "text=input(\"Enter String: \")\n",
    "text1=input(\"Enter String: \")\n",
    "text2=input(\"Enter String: \")\n",
    "pattern=r\"H..+o\"\n",
    "match=re.findall(pattern,text)\n",
    "match1=re.findall(pattern,text1)\n",
    "match2=re.findall(pattern,text2)\n",
    "print(match)\n",
    "print(match1)\n",
    "print(match2)"
   ]
  },
  {
   "cell_type": "code",
   "execution_count": 30,
   "id": "26fc9503-ecf0-4f17-9365-07ac6c0993fa",
   "metadata": {},
   "outputs": [
    {
     "name": "stdin",
     "output_type": "stream",
     "text": [
      "Enter String:  Heo\n",
      "Enter String:  Helo\n",
      "Enter String:  Hello\n"
     ]
    },
    {
     "name": "stdout",
     "output_type": "stream",
     "text": [
      "['Heo']\n",
      "['Helo']\n",
      "[]\n"
     ]
    }
   ],
   "source": [
    "text=input(\"Enter String: \")\n",
    "text1=input(\"Enter String: \")\n",
    "text2=input(\"Enter String: \")\n",
    "pattern=r\"H..?o\"\n",
    "match=re.findall(pattern,text)\n",
    "match1=re.findall(pattern,text1)\n",
    "match2=re.findall(pattern,text2)\n",
    "print(match)\n",
    "print(match1)\n",
    "print(match2)"
   ]
  },
  {
   "cell_type": "code",
   "execution_count": 33,
   "id": "528de407-bcb2-4345-a71d-99dbb8d14f54",
   "metadata": {},
   "outputs": [
    {
     "name": "stdin",
     "output_type": "stream",
     "text": [
      "Enter string:  Helo\n",
      "Enter string:  Hello\n"
     ]
    },
    {
     "name": "stdout",
     "output_type": "stream",
     "text": [
      "[]\n",
      "['Hello']\n"
     ]
    }
   ],
   "source": [
    "text=input(\"Enter string: \")\n",
    "text1=input(\"Enter string: \")\n",
    "pattern=r\"H..{2}o\"\n",
    "match=re.findall(pattern,text)\n",
    "match1=re.findall(pattern,text1)\n",
    "print(match)\n",
    "print(match1)"
   ]
  },
  {
   "cell_type": "code",
   "execution_count": 39,
   "id": "ab8242b1-2f57-4d2b-a40c-3bf3cb5de719",
   "metadata": {},
   "outputs": [
    {
     "name": "stdin",
     "output_type": "stream",
     "text": [
      "Enter string:  sdhj how sfbh hello\n"
     ]
    },
    {
     "name": "stdout",
     "output_type": "stream",
     "text": [
      "<re.Match object; span=(5, 8), match='how'>\n"
     ]
    }
   ],
   "source": [
    "text=input(\"Enter string: \")\n",
    "pattern=r\"hello|how\"\n",
    "match=re.search(pattern,text)\n",
    "print(match)"
   ]
  },
  {
   "cell_type": "code",
   "execution_count": 41,
   "id": "167a17e2-fd49-46e6-bae8-a888790d754e",
   "metadata": {},
   "outputs": [
    {
     "name": "stdin",
     "output_type": "stream",
     "text": [
      "Enter string:  Fhshsj\n"
     ]
    },
    {
     "name": "stdout",
     "output_type": "stream",
     "text": [
      "Consonants\n"
     ]
    }
   ],
   "source": [
    "text=input(\"Enter string: \")\n",
    "pattern=r\"([AEIOU]|[aeiou])\"\n",
    "match=re.findall(pattern,text)\n",
    "if match:\n",
    "    print(\"Vowels\")\n",
    "else:\n",
    "    print(\"Consonants\")"
   ]
  },
  {
   "cell_type": "code",
   "execution_count": null,
   "id": "fc1998a9-4b55-4b59-a2b5-ca1bc3cc1c16",
   "metadata": {},
   "outputs": [],
   "source": []
  }
 ],
 "metadata": {
  "kernelspec": {
   "display_name": "Python 3 (ipykernel)",
   "language": "python",
   "name": "python3"
  },
  "language_info": {
   "codemirror_mode": {
    "name": "ipython",
    "version": 3
   },
   "file_extension": ".py",
   "mimetype": "text/x-python",
   "name": "python",
   "nbconvert_exporter": "python",
   "pygments_lexer": "ipython3",
   "version": "3.11.4"
  }
 },
 "nbformat": 4,
 "nbformat_minor": 5
}
