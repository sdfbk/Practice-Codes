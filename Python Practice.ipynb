{
 "cells": [
  {
   "cell_type": "code",
   "execution_count": 8,
   "id": "2e78d94f-a0df-45a8-80a4-ee933a1dbefe",
   "metadata": {},
   "outputs": [
    {
     "name": "stdin",
     "output_type": "stream",
     "text": [
      "Enter a no:  2\n"
     ]
    },
    {
     "name": "stdout",
     "output_type": "stream",
     "text": [
      "2 is even\n"
     ]
    }
   ],
   "source": [
    "def EvenOrOdd(n):\n",
    "    if n%2 == 0:\n",
    "        return f\"{n} is even\"\n",
    "    else:\n",
    "        return f\"{n} is odd\"\n",
    "n = int(input(\"Enter a no: \"))\n",
    "print(EvenOrOdd(n))"
   ]
  },
  {
   "cell_type": "code",
   "execution_count": 11,
   "id": "c8f6d7e3-1056-4a90-a99d-70142569b494",
   "metadata": {},
   "outputs": [
    {
     "name": "stdin",
     "output_type": "stream",
     "text": [
      "Enter a no:  4\n"
     ]
    },
    {
     "data": {
      "text/plain": [
       "'4 is even'"
      ]
     },
     "execution_count": 11,
     "metadata": {},
     "output_type": "execute_result"
    }
   ],
   "source": [
    "n = int(input(\"Enter a no: \"))\n",
    "EvenOrOdd = lambda n : f\"{n} is even\" if n%2 == 0 else f\"{n} is odd\"\n",
    "EvenOrOdd(n)"
   ]
  },
  {
   "cell_type": "code",
   "execution_count": 15,
   "id": "bd5409c4-0366-4953-9780-fa1a5dba0e72",
   "metadata": {},
   "outputs": [
    {
     "name": "stdin",
     "output_type": "stream",
     "text": [
      "Enter a no:  8\n"
     ]
    },
    {
     "name": "stdout",
     "output_type": "stream",
     "text": [
      "8 is positive\n"
     ]
    }
   ],
   "source": [
    "def IdentifyNo(n):\n",
    "    if n>0:\n",
    "        print(f\"{n} is positive\")\n",
    "    elif n<0:\n",
    "        print(f\"{n} is negative\")\n",
    "    else:\n",
    "        print(f\"{n} is zero\")    \n",
    "n = int(input(\"Enter a no: \"))\n",
    "IdentifyNo(n)"
   ]
  },
  {
   "cell_type": "code",
   "execution_count": 18,
   "id": "071e5b70-f83a-49dc-84df-edebccb44c0e",
   "metadata": {},
   "outputs": [
    {
     "name": "stdin",
     "output_type": "stream",
     "text": [
      "Enter a no:  0\n"
     ]
    },
    {
     "data": {
      "text/plain": [
       "'0 is zero'"
      ]
     },
     "execution_count": 18,
     "metadata": {},
     "output_type": "execute_result"
    }
   ],
   "source": [
    "n = int(input(\"Enter a no: \"))\n",
    "IdentifyNo = lambda x : f\"{x} is positive\" if x>0 else f\"{x} is negative\" if x<0 else f\"{x} is zero\"\n",
    "IdentifyNo(n)"
   ]
  },
  {
   "cell_type": "code",
   "execution_count": 5,
   "id": "51149c93-a697-4b29-baf8-348c8f13bcae",
   "metadata": {},
   "outputs": [
    {
     "name": "stdin",
     "output_type": "stream",
     "text": [
      "Enter no of inputs:  5\n",
      "Input 1 :  3\n",
      "Input 2 :  4\n",
      "Input 3 :  5\n",
      "Input 4 :  2\n",
      "Input 5 :  1\n"
     ]
    },
    {
     "name": "stdout",
     "output_type": "stream",
     "text": [
      "5 is largest number\n",
      "Sorted numbers: None\n"
     ]
    }
   ],
   "source": [
    "def LargestNo(num):\n",
    "    num2 = 0\n",
    "    list1 = []\n",
    "    for i in range(num):\n",
    "        num1 = int(input(f\"Input {i+1} : \"))\n",
    "        list1.append(num1)\n",
    "        if num1 > num2:\n",
    "            num2 = num1\n",
    "    return f\"{num2} is largest number\\nSorted numbers: {list1.sort()}\"\n",
    "num = int(input(\"Enter no of inputs: \"))\n",
    "print(LargestNo(num))"
   ]
  },
  {
   "cell_type": "code",
   "execution_count": 24,
   "id": "370c2a5c-8894-454f-afa4-8352e5dd819c",
   "metadata": {},
   "outputs": [
    {
     "name": "stdin",
     "output_type": "stream",
     "text": [
      "Enter your age:  14\n"
     ]
    },
    {
     "data": {
      "text/plain": [
       "'Ticket cost is 7$'"
      ]
     },
     "execution_count": 24,
     "metadata": {},
     "output_type": "execute_result"
    }
   ],
   "source": [
    "age = int(input(\"Enter your age: \"))\n",
    "ticket_cost = lambda a : f\"Ticket cost is 5$\" if a < 12 else f\"Ticket cost is 7$\" if a >= 12 and a <= 17 else f\"Ticket cost is 10$\"\n",
    "ticket_cost(age)"
   ]
  },
  {
   "cell_type": "code",
   "execution_count": 8,
   "id": "efc608ce-b46d-41ac-bb72-661b36e4321f",
   "metadata": {},
   "outputs": [
    {
     "name": "stdin",
     "output_type": "stream",
     "text": [
      "Enter actual cost:  8\n",
      "Enter selling cost:  8\n"
     ]
    },
    {
     "data": {
      "text/plain": [
       "'No Profit No Loss'"
      ]
     },
     "execution_count": 8,
     "metadata": {},
     "output_type": "execute_result"
    }
   ],
   "source": [
    "actual_cost = int(input(\"Enter actual cost: \"))\n",
    "sell_cost = int(input(\"Enter selling cost: \"))\n",
    "Cost = lambda a,s : f\"Profit\" if a<s else f\"Loss\" if a>s else f\"No Profit No Loss\"\n",
    "Cost(actual_cost,sell_cost)"
   ]
  },
  {
   "cell_type": "code",
   "execution_count": 10,
   "id": "4a3a587b-e31c-4175-b8cf-f5804b2582f2",
   "metadata": {},
   "outputs": [
    {
     "name": "stdin",
     "output_type": "stream",
     "text": [
      "Enter a character:  R\n"
     ]
    },
    {
     "data": {
      "text/plain": [
       "'R is uppercase'"
      ]
     },
     "execution_count": 10,
     "metadata": {},
     "output_type": "execute_result"
    }
   ],
   "source": [
    "char = input(\"Enter a character: \")\n",
    "case = lambda n : f\"{n} is uppercase\" if n.isupper() else f\"{n} in lowercase\"\n",
    "case(char)"
   ]
  },
  {
   "cell_type": "code",
   "execution_count": 12,
   "id": "8d6f62b4-48e2-497e-80e5-84589053c1be",
   "metadata": {},
   "outputs": [
    {
     "name": "stdin",
     "output_type": "stream",
     "text": [
      "Enter a number :  5\n"
     ]
    },
    {
     "data": {
      "text/plain": [
       "'5 is not divisible by 5 and 11'"
      ]
     },
     "execution_count": 12,
     "metadata": {},
     "output_type": "execute_result"
    }
   ],
   "source": [
    "n = int(input(\"Enter a number : \"))\n",
    "num = lambda x : f\"{n} is divisible by 5 and 11\" if x%5 == 0 and x%11 == 0 else f\"{n} is not divisible by 5 and 11\"\n",
    "num(n)"
   ]
  },
  {
   "cell_type": "code",
   "execution_count": 15,
   "id": "3f7653db-d69e-48fb-b56c-0edf1adebd82",
   "metadata": {},
   "outputs": [
    {
     "name": "stdin",
     "output_type": "stream",
     "text": [
      "Enter String:  Sweta45\n"
     ]
    },
    {
     "data": {
      "text/plain": [
       "'Sweta45 is not alphabet nor digit'"
      ]
     },
     "execution_count": 15,
     "metadata": {},
     "output_type": "execute_result"
    }
   ],
   "source": [
    "c = input(\"Enter String: \")\n",
    "alpha = lambda x : f\"{x} is alphabet\" if x.isalpha() else f\"{x} is digit\" if x.isdigit() else f\"{x} is not alphabet nor digit\"\n",
    "alpha(c)"
   ]
  },
  {
   "cell_type": "code",
   "execution_count": 17,
   "id": "80afdd87-51cd-4813-8799-a5c1d5de8621",
   "metadata": {},
   "outputs": [
    {
     "name": "stdin",
     "output_type": "stream",
     "text": [
      "Enter character a\n"
     ]
    },
    {
     "data": {
      "text/plain": [
       "'a is vowel'"
      ]
     },
     "execution_count": 17,
     "metadata": {},
     "output_type": "execute_result"
    }
   ],
   "source": [
    "char = input(\"Enter character\")\n",
    "vowelsorcons  = lambda x : f\"{x} is vowel\" if x in \"AEIOUaeiou\" else f\"{x} is consonant\"\n",
    "vowelsorcons(char)"
   ]
  },
  {
   "cell_type": "code",
   "execution_count": 19,
   "id": "890d40d4-51d6-4b18-8e76-c349be7867ac",
   "metadata": {},
   "outputs": [
    {
     "name": "stdin",
     "output_type": "stream",
     "text": [
      "Enter a no :  2023\n"
     ]
    },
    {
     "name": "stdout",
     "output_type": "stream",
     "text": [
      "2023 is normal year\n"
     ]
    }
   ],
   "source": [
    "n = int(input(\"Enter a no : \"))\n",
    "if n%4 == 0 or n%400 == 0:\n",
    "    if n%100!=0:\n",
    "        print(f\"{n} is leap year\")\n",
    "    else:\n",
    "        print(f\"{n} is normal year\")\n",
    "else:\n",
    "    print(f\"{n} is normal year\")"
   ]
  },
  {
   "cell_type": "code",
   "execution_count": 21,
   "id": "ed4f30e2-95b5-462f-8ad4-1da961894956",
   "metadata": {},
   "outputs": [
    {
     "name": "stdin",
     "output_type": "stream",
     "text": [
      "Enter salary:  67000\n",
      "Enter facility (p&d) or (np&d):  p&d\n"
     ]
    },
    {
     "name": "stdout",
     "output_type": "stream",
     "text": [
      "I will join\n"
     ]
    }
   ],
   "source": [
    "sal  = int(input(\"Enter salary: \"))\n",
    "if sal > 50000:\n",
    "    fac = input(\"Enter facility (p&d) or (np&d): \")\n",
    "    if fac != \"p&d\":\n",
    "        print(\"Please provide facility\")\n",
    "    else:\n",
    "        print(\"I will join\")\n",
    "else:\n",
    "    print(\"I will join\")"
   ]
  },
  {
   "cell_type": "code",
   "execution_count": null,
   "id": "d9351f85-dec4-45ec-9691-948138154415",
   "metadata": {},
   "outputs": [],
   "source": []
  },
  {
   "cell_type": "code",
   "execution_count": null,
   "id": "bcaa0049-8324-4d75-92db-3605153928f7",
   "metadata": {},
   "outputs": [],
   "source": []
  },
  {
   "cell_type": "code",
   "execution_count": null,
   "id": "ce11fea0-a9c3-4026-8a24-8e422d389600",
   "metadata": {},
   "outputs": [],
   "source": []
  },
  {
   "cell_type": "code",
   "execution_count": null,
   "id": "fd8b14a1-761f-4a0a-959f-5aff76966d1c",
   "metadata": {},
   "outputs": [],
   "source": []
  },
  {
   "cell_type": "code",
   "execution_count": null,
   "id": "cfe06b83-b9e4-498d-a595-ba8a2ae63be0",
   "metadata": {},
   "outputs": [],
   "source": []
  },
  {
   "cell_type": "code",
   "execution_count": null,
   "id": "8932eb14-b59b-4906-abdd-94605ef9d94d",
   "metadata": {},
   "outputs": [],
   "source": []
  },
  {
   "cell_type": "code",
   "execution_count": null,
   "id": "6a0641f6-0d1c-422a-b080-c2208a1ec5a0",
   "metadata": {},
   "outputs": [],
   "source": []
  }
 ],
 "metadata": {
  "kernelspec": {
   "display_name": "Python 3 (ipykernel)",
   "language": "python",
   "name": "python3"
  },
  "language_info": {
   "codemirror_mode": {
    "name": "ipython",
    "version": 3
   },
   "file_extension": ".py",
   "mimetype": "text/x-python",
   "name": "python",
   "nbconvert_exporter": "python",
   "pygments_lexer": "ipython3",
   "version": "3.11.4"
  }
 },
 "nbformat": 4,
 "nbformat_minor": 5
}
