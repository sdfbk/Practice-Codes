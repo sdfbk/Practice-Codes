{
 "cells": [
  {
   "cell_type": "markdown",
   "id": "e6799cb0-cef5-4f09-9028-fcbf6134c2d8",
   "metadata": {},
   "source": [
    "# Remove duplicate values by comparing two list"
   ]
  },
  {
   "cell_type": "code",
   "execution_count": 2,
   "id": "02b609a6-239b-4a69-84e4-a789c52b7889",
   "metadata": {},
   "outputs": [
    {
     "name": "stdout",
     "output_type": "stream",
     "text": [
      "[1, 3, 5, 7, 9, 10]\n"
     ]
    }
   ],
   "source": [
    "def remove_duplicates(l1,l2,l3):\n",
    "    for i in l1:\n",
    "        if i not in l2:\n",
    "            l3.append(i)\n",
    "    return l3\n",
    "list1=[1,2,3,4,5,6,7,8,9,10]\n",
    "list2=[2,4,6,8]\n",
    "list3=[]\n",
    "print(remove_duplicates(list1,list2,list3))"
   ]
  },
  {
   "cell_type": "markdown",
   "id": "451a81c5-add0-46c0-91a3-b336ec71232c",
   "metadata": {},
   "source": [
    "# Take string and number input if number is divisible by 2 then double the string else print zero"
   ]
  },
  {
   "cell_type": "code",
   "execution_count": 5,
   "id": "044eda0c-9ad7-49cd-8a71-ce4e1b7dd5ea",
   "metadata": {},
   "outputs": [
    {
     "name": "stdin",
     "output_type": "stream",
     "text": [
      "Enter string:  Hello\n",
      "Enter no:  2\n"
     ]
    },
    {
     "name": "stdout",
     "output_type": "stream",
     "text": [
      "HelloHello\n"
     ]
    }
   ],
   "source": [
    "def double_str(s,n):\n",
    "    if n%2==0:\n",
    "        return str*2\n",
    "    else:\n",
    "        return 0    \n",
    "str=input(\"Enter string: \")\n",
    "n=int(input(\"Enter no: \"))\n",
    "print(double_str(str,n))"
   ]
  },
  {
   "cell_type": "markdown",
   "id": "c38e8f07-893f-4d0f-8cd7-8ea0a0b39522",
   "metadata": {},
   "source": [
    "# Write a pyhton program to check the given string is startswith vowels(A,E,I,O,U):"
   ]
  },
  {
   "cell_type": "code",
   "execution_count": 26,
   "id": "7ad5ad7e-61f4-445c-93d9-6b1b911f5d70",
   "metadata": {},
   "outputs": [
    {
     "name": "stdin",
     "output_type": "stream",
     "text": [
      "Enter string:  H\n"
     ]
    },
    {
     "name": "stdout",
     "output_type": "stream",
     "text": [
      "It starts with consonant\n"
     ]
    }
   ],
   "source": [
    "def vowel_cons(str,vowels):\n",
    "    if str.startswith(vowels):\n",
    "        return \"Yes, It starts with vowel\"\n",
    "    else:\n",
    "        return \"It starts with consonant\"    \n",
    "str=input(\"Enter string: \")\n",
    "vowels=('A','E','O','I','U','a','e','i','o','u')\n",
    "print(vowel_cons(str,vowels))"
   ]
  },
  {
   "cell_type": "code",
   "execution_count": 38,
   "id": "46087ecd-35ba-4b5c-bc03-140559f78f46",
   "metadata": {},
   "outputs": [
    {
     "name": "stdin",
     "output_type": "stream",
     "text": [
      "Enter string:  g\n"
     ]
    },
    {
     "name": "stdout",
     "output_type": "stream",
     "text": [
      "It starts with consonant\n"
     ]
    }
   ],
   "source": [
    "str=input(\"Enter string: \")\n",
    "vowels=('A','E','O','U')\n",
    "if str[0].upper().startswith(vowels):\n",
    "    print(\"Yes, It starts with vowel\")\n",
    "else:\n",
    "    print(\"It starts with consonant\")"
   ]
  },
  {
   "cell_type": "code",
   "execution_count": 43,
   "id": "5a27211d-bbd2-4387-b821-43765a8a348c",
   "metadata": {},
   "outputs": [
    {
     "name": "stdin",
     "output_type": "stream",
     "text": [
      "Enter string:  h\n"
     ]
    },
    {
     "name": "stdout",
     "output_type": "stream",
     "text": [
      "It starts with consonant\n"
     ]
    }
   ],
   "source": [
    "str=input(\"Enter string: \")\n",
    "vowels=('A','E','O','U')\n",
    "vowel_cons=lambda s,v:\"Yes, It starts with vowel\" if s[0].upper().startswith(v) else \"It starts with consonant\"\n",
    "print(vowel_cons(str,vowels))"
   ]
  },
  {
   "cell_type": "markdown",
   "id": "83ed9038-9b1a-4360-bb47-a0a88acfac54",
   "metadata": {},
   "source": [
    "# Create tuple and modify value of tuple"
   ]
  },
  {
   "cell_type": "code",
   "execution_count": 44,
   "id": "5a0c17f1-fa51-48ff-b750-eb5663b01181",
   "metadata": {},
   "outputs": [
    {
     "name": "stdout",
     "output_type": "stream",
     "text": [
      "['Mango', 'Banana', 'Cherry']\n"
     ]
    }
   ],
   "source": [
    "fruits=('Mango','Orange','Cherry')\n",
    "fruits_list=list(fruits)\n",
    "fruits_list[1]='Banana'\n",
    "print(fruits_list)"
   ]
  },
  {
   "cell_type": "markdown",
   "id": "f6cb6820-2e51-4bf9-b3b9-27a6ebdfa936",
   "metadata": {},
   "source": [
    "# Using typecasting perform concatenation between string float"
   ]
  },
  {
   "cell_type": "code",
   "execution_count": 50,
   "id": "dfab1c57-7471-40ea-896d-2a6a62ea1c2e",
   "metadata": {},
   "outputs": [
    {
     "name": "stdin",
     "output_type": "stream",
     "text": [
      "Enter string:  Hello\n",
      "Enter no in decimal:  9.8\n"
     ]
    },
    {
     "name": "stdout",
     "output_type": "stream",
     "text": [
      "Hello9.8\n"
     ]
    }
   ],
   "source": [
    "str=input(\"Enter string: \")\n",
    "n=float(input(\"Enter no in decimal: \"))\n",
    "str1=f\"{str}{n}\"\n",
    "print(str1)"
   ]
  },
  {
   "cell_type": "markdown",
   "id": "f48a7250-8da3-4275-a581-416814bdba33",
   "metadata": {},
   "source": [
    "# Change i to ee"
   ]
  },
  {
   "cell_type": "code",
   "execution_count": 52,
   "id": "6ae089d8-a993-4c7b-be7f-d1f49970f7dd",
   "metadata": {},
   "outputs": [
    {
     "name": "stdout",
     "output_type": "stream",
     "text": [
      "['7 habeets of heeghly effecteeve people']\n"
     ]
    }
   ],
   "source": [
    "Book=['7 habits of highly effective people']\n",
    "Book1=[]\n",
    "for i in Book:\n",
    "    if i in Book:\n",
    "        i1=i.replace('i','ee')\n",
    "        Book1.append(i1)\n",
    "print(Book1)        "
   ]
  },
  {
   "cell_type": "code",
   "execution_count": null,
   "id": "1429b2d6-eab6-412d-9e1d-de780c854527",
   "metadata": {},
   "outputs": [],
   "source": []
  }
 ],
 "metadata": {
  "kernelspec": {
   "display_name": "Python 3 (ipykernel)",
   "language": "python",
   "name": "python3"
  },
  "language_info": {
   "codemirror_mode": {
    "name": "ipython",
    "version": 3
   },
   "file_extension": ".py",
   "mimetype": "text/x-python",
   "name": "python",
   "nbconvert_exporter": "python",
   "pygments_lexer": "ipython3",
   "version": "3.11.4"
  }
 },
 "nbformat": 4,
 "nbformat_minor": 5
}
