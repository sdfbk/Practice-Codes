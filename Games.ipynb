{
 "cells": [
  {
   "cell_type": "markdown",
   "id": "58c15eb1-9e71-4191-bee4-b17c67f51879",
   "metadata": {},
   "source": [
    "# Stone,Paper,Scissor"
   ]
  },
  {
   "cell_type": "code",
   "execution_count": 1,
   "id": "5a9c4e8a-dbc9-44b9-a73b-39653cdcc0bc",
   "metadata": {},
   "outputs": [
    {
     "name": "stdin",
     "output_type": "stream",
     "text": [
      "Select your choice {'Stone','Paper','Scissor'}:  Paper\n"
     ]
    },
    {
     "name": "stdout",
     "output_type": "stream",
     "text": [
      "user select Paper and computer select Paper match draw\n"
     ]
    },
    {
     "name": "stdin",
     "output_type": "stream",
     "text": [
      "Select your choice {'Stone','Paper','Scissor'}:  Paper\n"
     ]
    },
    {
     "name": "stdout",
     "output_type": "stream",
     "text": [
      "user select Paper and computer select Paper match draw\n"
     ]
    },
    {
     "name": "stdin",
     "output_type": "stream",
     "text": [
      "Select your choice {'Stone','Paper','Scissor'}:  Stone\n"
     ]
    },
    {
     "name": "stdout",
     "output_type": "stream",
     "text": [
      "user select Stone and computer select Paper user win the match\n",
      "Match Draw\n"
     ]
    }
   ],
   "source": [
    "import random\n",
    "from random import choice\n",
    "def stone_paper_scissor(ch_list,limit,c,c1,c2):\n",
    "    comp=choice(ch_list)\n",
    "    while limit>0:\n",
    "        user=input(\"Select your choice {'Stone','Paper','Scissor'}: \")\n",
    "        if user==comp:\n",
    "            print(f\"user select {user} and computer select {comp} match draw\")\n",
    "            c+=1\n",
    "        elif user==\"Stone\" and comp==\"Paper\" :\n",
    "                print(f\"user select {user} and computer select {comp} user win the match\")\n",
    "                c1+=1\n",
    "        elif user==\"Scissor\" and comp==\"Paper\" :\n",
    "                print(f\"user select {user} and computer select {comp} user win the match\")\n",
    "                c1+=1\n",
    "        elif user==\"Stone\" and comp==\"Scissor\" :\n",
    "                print(f\"user select {user} and computer select {comp} user win the match\")\n",
    "                c1+=1\n",
    "        else:\n",
    "            print(f\"user select {user} and computer select {comp} computer win the match\")\n",
    "            c2+=1\n",
    "        limit-=1\n",
    "    if c>c1:\n",
    "        if c>c2:\n",
    "            print(\"Match Draw\")\n",
    "        else:\n",
    "            print(\"Computer win the game\")\n",
    "    else:\n",
    "        if c1>c2:\n",
    "            print(\"User win the game\")\n",
    "        else:\n",
    "            print(\"Computer win the game\")\n",
    "ch_list=[\"Stone\",\"Paper\",\"Scissor\"]\n",
    "limit=3\n",
    "c=0;c1=0;c2=0\n",
    "stone_paper_scissor(ch_list,limit,c,c1,c2)"
   ]
  },
  {
   "cell_type": "markdown",
   "id": "a6caa9ec-1ca7-44e6-b64c-88cf286ae4ca",
   "metadata": {},
   "source": [
    "# Number Guessing Game"
   ]
  },
  {
   "cell_type": "code",
   "execution_count": 7,
   "id": "22ee2b92-9ccb-4599-a785-905c432f492f",
   "metadata": {},
   "outputs": [
    {
     "name": "stdin",
     "output_type": "stream",
     "text": [
      "Enter move 1:  3\n"
     ]
    },
    {
     "name": "stdout",
     "output_type": "stream",
     "text": [
      "Your Guess is lower\n"
     ]
    },
    {
     "name": "stdin",
     "output_type": "stream",
     "text": [
      "Enter move 2:  6\n"
     ]
    },
    {
     "name": "stdout",
     "output_type": "stream",
     "text": [
      "Your Guess is higher\n"
     ]
    },
    {
     "name": "stdin",
     "output_type": "stream",
     "text": [
      "Enter move 3:  4\n"
     ]
    },
    {
     "name": "stdout",
     "output_type": "stream",
     "text": [
      "Your Guess is lower\n"
     ]
    },
    {
     "name": "stdin",
     "output_type": "stream",
     "text": [
      "Enter move 4:  5\n"
     ]
    },
    {
     "name": "stdout",
     "output_type": "stream",
     "text": [
      "Your guessing is correct. Guessed number is 5\n",
      "Within 4 moves you guess the number\n"
     ]
    }
   ],
   "source": [
    "import random\n",
    "from random import randint\n",
    "def Guess_No(r_no,c,l):\n",
    "    for i in range(1,l+1):\n",
    "        user=int(input(f\"Enter move {i}: \"))\n",
    "        if user==r_no:\n",
    "            print(f\"Your guessing is correct. Guessed number is {r_no}\")\n",
    "            c+=1\n",
    "            print(f\"Within {i} moves you guess the number\")\n",
    "            break\n",
    "        elif user>r_no:\n",
    "            print(f\"Your Guess is higher\")\n",
    "        else:\n",
    "            print(f\"Your Guess is lower\")\n",
    "    if c==0:\n",
    "        print(f\"No more moves. You lost the game.\")\n",
    "r_no=randint(1,10)\n",
    "c=0\n",
    "limit=5\n",
    "Guess_No(r_no,c,limit)"
   ]
  },
  {
   "cell_type": "code",
   "execution_count": null,
   "id": "4b2b0186-fe90-4faa-b6e3-88b2699dd1b9",
   "metadata": {},
   "outputs": [],
   "source": []
  }
 ],
 "metadata": {
  "kernelspec": {
   "display_name": "Python 3 (ipykernel)",
   "language": "python",
   "name": "python3"
  },
  "language_info": {
   "codemirror_mode": {
    "name": "ipython",
    "version": 3
   },
   "file_extension": ".py",
   "mimetype": "text/x-python",
   "name": "python",
   "nbconvert_exporter": "python",
   "pygments_lexer": "ipython3",
   "version": "3.11.4"
  }
 },
 "nbformat": 4,
 "nbformat_minor": 5
}
