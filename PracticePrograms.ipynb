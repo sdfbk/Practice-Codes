{
 "cells": [
  {
   "cell_type": "code",
   "execution_count": 2,
   "id": "516890db-5cfb-4677-bf44-6a9598e6758a",
   "metadata": {},
   "outputs": [
    {
     "name": "stdin",
     "output_type": "stream",
     "text": [
      "Enter a number:  2\n"
     ]
    },
    {
     "name": "stdout",
     "output_type": "stream",
     "text": [
      "1\n"
     ]
    }
   ],
   "source": [
    "n=int(input(\"Enter a number: \"))\n",
    "for i in range(1,n+1,2):\n",
    "    print(i)"
   ]
  },
  {
   "cell_type": "code",
   "execution_count": 22,
   "id": "7b59d530-1165-4743-a631-8a91c3761e88",
   "metadata": {},
   "outputs": [
    {
     "name": "stdin",
     "output_type": "stream",
     "text": [
      "Enter a number:  21\n"
     ]
    },
    {
     "name": "stdout",
     "output_type": "stream",
     "text": [
      "21 * 1 = 21\n",
      "21 * 2 = 42\n",
      "21 * 3 = 63\n",
      "21 * 4 = 84\n",
      "21 * 5 = 105\n",
      "21 * 6 = 126\n",
      "21 * 7 = 147\n",
      "21 * 8 = 168\n",
      "21 * 9 = 189\n",
      "21 * 10 = 210\n"
     ]
    }
   ],
   "source": [
    "n=int(input(\"Enter a number: \"))\n",
    "for i in range(1,11):\n",
    "    print(f\"{n} * {i} = {n*i}\")"
   ]
  },
  {
   "cell_type": "code",
   "execution_count": 10,
   "id": "4e39ae2e-46d7-41b6-b29b-7feff6da01bf",
   "metadata": {},
   "outputs": [
    {
     "name": "stdin",
     "output_type": "stream",
     "text": [
      "Enter a number:  10\n"
     ]
    },
    {
     "name": "stdout",
     "output_type": "stream",
     "text": [
      "1\n",
      "2\n",
      "3\n",
      "4\n",
      "6\n",
      "7\n",
      "8\n",
      "9\n",
      "10\n"
     ]
    }
   ],
   "source": [
    "n=int(input(\"Enter a number: \"))\n",
    "for i in range(1,n+1):\n",
    "    if i==5:\n",
    "        continue\n",
    "    print(i)        "
   ]
  },
  {
   "cell_type": "code",
   "execution_count": 13,
   "id": "e86716c5-23de-44ac-b839-617334bce050",
   "metadata": {},
   "outputs": [
    {
     "name": "stdin",
     "output_type": "stream",
     "text": [
      "Enter a number:  10\n"
     ]
    },
    {
     "name": "stdout",
     "output_type": "stream",
     "text": [
      "1\n",
      "2\n",
      "3\n",
      "4\n",
      "6\n",
      "7\n",
      "8\n",
      "9\n",
      "10\n"
     ]
    }
   ],
   "source": [
    "n=int(input(\"Enter a number: \"))\n",
    "i=0\n",
    "while i<n:\n",
    "    i+=1\n",
    "    if i==5:\n",
    "        continue\n",
    "    print(i)"
   ]
  },
  {
   "cell_type": "code",
   "execution_count": 6,
   "id": "2b85ecc6-a61c-44f0-951c-b1df0e54565a",
   "metadata": {},
   "outputs": [
    {
     "data": {
      "text/plain": [
       "'I AM TRAVELLING IN TRAIN'"
      ]
     },
     "execution_count": 6,
     "metadata": {},
     "output_type": "execute_result"
    }
   ],
   "source": [
    "str=\"i am travelling in train\"\n",
    "str.swapcase()"
   ]
  },
  {
   "cell_type": "code",
   "execution_count": 17,
   "id": "16489cb2-131b-4ae1-a0ac-1aeed775bff7",
   "metadata": {},
   "outputs": [
    {
     "name": "stdin",
     "output_type": "stream",
     "text": [
      "Enter a number:  1000\n"
     ]
    },
    {
     "name": "stdout",
     "output_type": "stream",
     "text": [
      "55|55\n",
      "110|165\n",
      "165|330\n",
      "220|550\n",
      "275|825\n",
      "330|1155\n",
      "385|1540\n",
      "440|1980\n",
      "495|2475\n",
      "550|3025\n",
      "605|3630\n",
      "660|4290\n",
      "715|5005\n",
      "770|5775\n",
      "825|6600\n",
      "880|7480\n",
      "935|8415\n",
      "990|9405\n",
      "9405\n"
     ]
    }
   ],
   "source": [
    "n=int(input(\"Enter a number: \"))\n",
    "sum=0\n",
    "for i in range(1,n+1):\n",
    "    if i%5==0 and i%11==0:\n",
    "        sum+=i\n",
    "        print(f\"{i}|{sum}\")\n",
    "print(f\"{sum}\")    "
   ]
  },
  {
   "cell_type": "code",
   "execution_count": 19,
   "id": "a8a57cad-5711-4f99-8299-a4312ea97920",
   "metadata": {},
   "outputs": [
    {
     "name": "stdout",
     "output_type": "stream",
     "text": [
      "120\n"
     ]
    }
   ],
   "source": [
    "list1=[1,2,3,4,5]\n",
    "sum=1\n",
    "for i in list1:\n",
    "    sum*=i\n",
    "print(sum)    "
   ]
  },
  {
   "cell_type": "code",
   "execution_count": 27,
   "id": "b10626b6-1dc8-4726-806c-79a81bb38b4a",
   "metadata": {},
   "outputs": [
    {
     "name": "stdout",
     "output_type": "stream",
     "text": [
      "11111\n",
      "22222\n",
      "33333\n",
      "44444\n",
      "55555\n"
     ]
    }
   ],
   "source": [
    "for i in range(1,6):\n",
    "    for j in range(1,6):\n",
    "        print(i,end=\"\")\n",
    "    print()"
   ]
  },
  {
   "cell_type": "code",
   "execution_count": 37,
   "id": "d554b581-85d9-45a4-9d81-a9c3a401a164",
   "metadata": {},
   "outputs": [
    {
     "name": "stdout",
     "output_type": "stream",
     "text": [
      "1\n",
      "21\n",
      "321\n",
      "4321\n",
      "54321\n"
     ]
    }
   ],
   "source": [
    "for i in range(1,6):\n",
    "    for j in range(i,0,-1):\n",
    "        print(j,end=\"\")\n",
    "    print()"
   ]
  },
  {
   "cell_type": "code",
   "execution_count": 44,
   "id": "e567cfcc-27ae-4c13-b259-3120a6f876c0",
   "metadata": {},
   "outputs": [
    {
     "name": "stdin",
     "output_type": "stream",
     "text": [
      "How much money you have to buy chocolate?  15\n",
      "Per chocolate price:  3\n"
     ]
    },
    {
     "name": "stdout",
     "output_type": "stream",
     "text": [
      "You will get 7 chocolates with in 3 rupees \n",
      "Remaining wrapper 1\n"
     ]
    }
   ],
   "source": [
    "money=int(input(\"How much money you have to buy chocolate? \"))\n",
    "choco_price=int(input(\"Per chocolate price: \"))\n",
    "wrap_get_extra=3\n",
    "choco=money//choco_price\n",
    "wrapper=choco\n",
    "while wrapper//3!=0:\n",
    "    choco+=wrapper//3\n",
    "    wrapper=wrapper%3+wrapper//3\n",
    "    remain_wrap=wrapper%3\n",
    "print(f\"You will get {choco} chocolates with in {choco_price} rupees \")\n",
    "print(f\"Remaining wrapper {remain_wrap}\")"
   ]
  },
  {
   "cell_type": "code",
   "execution_count": 50,
   "id": "67162aab-3246-4707-a2eb-6144d6cf316e",
   "metadata": {},
   "outputs": [
    {
     "name": "stdout",
     "output_type": "stream",
     "text": [
      "['Apple', 'Banana', 'Orange', 'Kivi', 'Pinneapple', 'Grapes', 'Apple']\n",
      "['Apple', 'Banana', 'Orange', 'Kivi', 'Pinneapple']\n",
      "['Banana', 'Orange', 'Kivi', 'Pinneapple', 'Grapes', 'Apple']\n",
      "['Grapes', 'Pinneapple', 'Kivi', 'Orange', 'Banana']\n",
      "['Apple', 'Fig', 'Orange', 'Kivi', 'Pinneapple', 'Cherry', 'Apple']\n"
     ]
    }
   ],
   "source": [
    "fruits=[\"Apple\",\"Banana\",\"Orange\",\"Kivi\",\"Pinneapple\",\"Grapes\",\"Apple\"]\n",
    "print(fruits)\n",
    "print(fruits[:5])\n",
    "print(fruits[1:])\n",
    "print(fruits[-2:-7:-1])\n",
    "fruits[1:6:4]=[\"Fig\",\"Cherry\"]\n",
    "print(fruits)"
   ]
  },
  {
   "cell_type": "code",
   "execution_count": 56,
   "id": "658eb869-9d6a-401c-b434-e2425054fc77",
   "metadata": {},
   "outputs": [
    {
     "name": "stdout",
     "output_type": "stream",
     "text": [
      "[['Apple', 6], [True, 'Mango', 9.5]]\n",
      "Mango\n",
      "[['Apple', 6], [False, 'Mango', 9.5]]\n"
     ]
    }
   ],
   "source": [
    "fruits_buc=[[\"Apple\",6],[True,\"Mango\",9.5]]\n",
    "print(fruits_buc)\n",
    "print(fruits_buc[1][1])\n",
    "fruits_buc[1][0]=False\n",
    "print(fruits_buc)"
   ]
  },
  {
   "cell_type": "code",
   "execution_count": 58,
   "id": "9b5117c3-fe81-434f-999f-85179cef6f5b",
   "metadata": {},
   "outputs": [
    {
     "name": "stdout",
     "output_type": "stream",
     "text": [
      "Count of Vowels 3\n",
      "Elements which first letter is vowels: ['Apple', 'Orange', 'Apple']\n",
      "Count of Consonants 4\n",
      "Elements which first letter is consonants: ['Banana', 'Kivi', 'Pinneapple', 'Grapes']\n"
     ]
    }
   ],
   "source": [
    "fruits=[\"Apple\",\"Banana\",\"Orange\",\"Kivi\",\"Pinneapple\",\"Grapes\",\"Apple\"]\n",
    "list1=[]\n",
    "list2=[]\n",
    "for i in fruits:\n",
    "    if i[0] in \"AEIOUaeiou\":\n",
    "        list1.append(i)\n",
    "    else:\n",
    "        list2.append(i)\n",
    "print(f\"Count of Vowels {len(list1)}\")\n",
    "print(f\"Elements which first letter is vowels: {list1}\")\n",
    "print(f\"Count of Consonants {len(list2)}\")\n",
    "print(f\"Elements which first letter is consonants: {list2}\")"
   ]
  },
  {
   "cell_type": "code",
   "execution_count": 60,
   "id": "d0581131-1d5d-4f75-8dc8-1481512f1faa",
   "metadata": {},
   "outputs": [
    {
     "name": "stdout",
     "output_type": "stream",
     "text": [
      "('Apple', 'Banana', 'Orange', 'Kivi', 'Pinneapple', 'Grapes', 'Apple')\n",
      "('Grapes', 'Kivi', 'Banana')\n"
     ]
    }
   ],
   "source": [
    "fruits=(\"Apple\",\"Banana\",\"Orange\",\"Kivi\",\"Pinneapple\",\"Grapes\",\"Apple\")\n",
    "print(fruits[0:])\n",
    "print(fruits[-2:-7:-2])"
   ]
  },
  {
   "cell_type": "code",
   "execution_count": 61,
   "id": "47aa3b7b-54bb-4756-9162-d3c13a44ec30",
   "metadata": {},
   "outputs": [
    {
     "name": "stdout",
     "output_type": "stream",
     "text": [
      "{'Apple', 'Grapes', 'Orange', 'Banana', 'Pinneapple', 'Kivi'}\n"
     ]
    }
   ],
   "source": [
    "fruits={\"Apple\",\"Banana\",\"Orange\",\"Kivi\",\"Pinneapple\",\"Grapes\"}\n",
    "print(fruits)"
   ]
  },
  {
   "cell_type": "code",
   "execution_count": 68,
   "id": "718da027-4868-4248-952b-b5e264790b70",
   "metadata": {},
   "outputs": [
    {
     "name": "stdout",
     "output_type": "stream",
     "text": [
      "{'Name': ['abc', 'pqr'], 'Age': [12, 56]}\n",
      "pqr\n",
      "dict_items([('Name', ['abc', 'pqr']), ('Age', [12, 56])])\n",
      "{'Name': ['abc', 'pqr'], 'Age': [21, 56]}\n"
     ]
    }
   ],
   "source": [
    "dict1={\"Name\":[\"abc\",\"pqr\"],\"Age\":[12,56]}\n",
    "print(dict1)\n",
    "print(dict1[\"Name\"][1])\n",
    "print(dict1.items())\n",
    "dict1[\"Age\"][0]=21\n",
    "print(dict1)"
   ]
  },
  {
   "cell_type": "code",
   "execution_count": 71,
   "id": "df18f923-52c9-4c04-a2e2-ad8ea5d4bd89",
   "metadata": {},
   "outputs": [
    {
     "name": "stdout",
     "output_type": "stream",
     "text": [
      "Name\n",
      "Age\n"
     ]
    }
   ],
   "source": [
    "for i in dict1:\n",
    "    print(i)"
   ]
  },
  {
   "cell_type": "code",
   "execution_count": 75,
   "id": "17c1207b-6e7d-421f-868a-5a8bb17f16ad",
   "metadata": {},
   "outputs": [
    {
     "name": "stdout",
     "output_type": "stream",
     "text": [
      "{'Parent1': {'Child1': 'C1', 'Child2': ''}, 'Parent2': {'Child1': ['C1', 'C2', 'C3']}}\n"
     ]
    }
   ],
   "source": [
    "family={\"Parent1\":{\"Child1\":'C1',\"Child2\":''},\"Parent2\":{\"Child1\":['C1','C2','C3']}}\n",
    "print(family)"
   ]
  },
  {
   "cell_type": "code",
   "execution_count": 76,
   "id": "8b4fdcb3-39ad-4da6-b439-cd957bb51449",
   "metadata": {},
   "outputs": [
    {
     "name": "stdin",
     "output_type": "stream",
     "text": [
      "Enter no of Input:  2\n",
      "Age of Member 1:  21\n",
      "Age of Member 2:  2\n"
     ]
    },
    {
     "name": "stdout",
     "output_type": "stream",
     "text": [
      "Total cost of ride ticket is 75\n"
     ]
    }
   ],
   "source": [
    "n=int(input(\"Enter no of Input: \"))\n",
    "sum=0\n",
    "for i in range(n):\n",
    "    n1=int(input(f\"Age of Member {i+1}: \"))\n",
    "    if n1>=18:\n",
    "        n1=50\n",
    "    else:\n",
    "        n1=25\n",
    "    sum+=n1\n",
    "print(f\"Total cost of ride ticket is {sum}\")    "
   ]
  },
  {
   "cell_type": "code",
   "execution_count": 77,
   "id": "6e8c93c0-8a04-43a5-8239-846d7ce057ed",
   "metadata": {},
   "outputs": [
    {
     "name": "stdout",
     "output_type": "stream",
     "text": [
      "{'Apple': 3, 'Banana': 2, 'Orange': 1}\n"
     ]
    }
   ],
   "source": [
    "fruits=[\"Apple\",\"Banana\",\"Apple\",\"Orange\",\"Apple\",\"Banana\"]\n",
    "dict1={}\n",
    "for i in fruits:\n",
    "    if i in dict1:\n",
    "        dict1[i]+=1\n",
    "    else:\n",
    "        dict1[i]=1\n",
    "print(dict1)        "
   ]
  },
  {
   "cell_type": "code",
   "execution_count": 85,
   "id": "4bf474a3-7ffd-4195-9c1d-9a20afc32e64",
   "metadata": {},
   "outputs": [
    {
     "name": "stdin",
     "output_type": "stream",
     "text": [
      " 1 2 find look seek\n"
     ]
    },
    {
     "name": "stdout",
     "output_type": "stream",
     "text": [
      "{'look', '1', 'seek', 'find', '2'}\n",
      "5\n"
     ]
    }
   ],
   "source": [
    "n=input()\n",
    "n1=n.split()\n",
    "set1=set(n1)\n",
    "print(set1)\n",
    "print(len(set1))"
   ]
  },
  {
   "cell_type": "code",
   "execution_count": 87,
   "id": "6175f609-abb9-439c-88df-cde4bd6ece23",
   "metadata": {},
   "outputs": [
    {
     "name": "stdout",
     "output_type": "stream",
     "text": [
      "[34, 1, 12]\n"
     ]
    }
   ],
   "source": [
    "list1=[34,1,0,-23,12,-88]\n",
    "list2=[]\n",
    "for i in list1:\n",
    "    if i>0:\n",
    "        list2.append(i)\n",
    "print(list2)"
   ]
  },
  {
   "cell_type": "code",
   "execution_count": 97,
   "id": "a3d8f542-28e7-4ce9-b2ef-8fac9fab77ad",
   "metadata": {},
   "outputs": [
    {
     "name": "stdin",
     "output_type": "stream",
     "text": [
      "Enter book name:  y\n",
      "Enter cost of books:  100\n",
      "Number of days to return a book:  6\n"
     ]
    },
    {
     "name": "stdout",
     "output_type": "stream",
     "text": [
      "You have to pay 0 amount\n"
     ]
    }
   ],
   "source": [
    "book_name=input(\"Enter book name: \")\n",
    "book_price=int(input(\"Enter cost of books: \"))\n",
    "days=int(input(\"Number of days to return a book: \"))\n",
    "limit=7\n",
    "fine=0\n",
    "for i in range(days+1):\n",
    "    if limit<i:\n",
    "        if fine==book_price:\n",
    "            fine=book_price\n",
    "        else:\n",
    "            fine+=25\n",
    "    else:\n",
    "        fine=0\n",
    "print(f\"You have to pay {fine} amount\") "
   ]
  },
  {
   "cell_type": "code",
   "execution_count": 99,
   "id": "24ddc8f7-5bdb-4e30-a09e-782fb474e29c",
   "metadata": {},
   "outputs": [
    {
     "name": "stdin",
     "output_type": "stream",
     "text": [
      "Enter 1st number:  23\n",
      "Enter 2nd number:  1\n",
      "Which operation you have to perform select any one ('+','-','*','/'):  -\n"
     ]
    },
    {
     "name": "stdout",
     "output_type": "stream",
     "text": [
      "Subtraction = 22\n"
     ]
    }
   ],
   "source": [
    "def calci(a,b,c):\n",
    "    if n3==\"+\":\n",
    "        print(f\"Addition = {n1+n2}\")\n",
    "    elif n3==\"-\":\n",
    "        print(f\"Subtraction = {n1-n2}\")\n",
    "    elif n3==\"*\":\n",
    "        print(f\"Multiplication = {n1*n2}\")\n",
    "    else:\n",
    "        print(f\"Division = {n1/n2}\")\n",
    "        \n",
    "n1=int(input(\"Enter 1st number: \"))\n",
    "n2=int(input(\"Enter 2nd number: \"))\n",
    "n3=input(\"Which operation you have to perform select any one ('+','-','*','/'): \")\n",
    "calci(n1,n2,n3)"
   ]
  },
  {
   "cell_type": "code",
   "execution_count": 102,
   "id": "46a4787b-564f-4f4b-9923-7b95afe749aa",
   "metadata": {},
   "outputs": [
    {
     "name": "stdin",
     "output_type": "stream",
     "text": [
      "Enter Book Name:  ee\n",
      "Enter Price of books:  100\n",
      "How much delay to return a book :  8\n"
     ]
    },
    {
     "name": "stdout",
     "output_type": "stream",
     "text": [
      "You have to pay 25 amount\n"
     ]
    }
   ],
   "source": [
    "def fine_calci(price,days):\n",
    "    limit=7\n",
    "    fine=0\n",
    "    for i in range(days+1):\n",
    "        if limit<i:\n",
    "            if fine==price:\n",
    "                fine=price\n",
    "            else:\n",
    "                fine+=25\n",
    "        else:\n",
    "            fine=0\n",
    "    print(f\"You have to pay {fine} amount\")\n",
    "    \n",
    "name=input(\"Enter Book Name: \")\n",
    "price=int(input(\"Enter Price of books: \"))\n",
    "days=int(input(\"How much delay to return a book : \"))\n",
    "fine_calci(price,days)"
   ]
  },
  {
   "cell_type": "code",
   "execution_count": 103,
   "id": "9dcc2ebf-2eba-4556-94f6-7bff6cc2e148",
   "metadata": {},
   "outputs": [
    {
     "name": "stdin",
     "output_type": "stream",
     "text": [
      "Enter number of inputs you want:  5\n",
      "Input 1:  23\n",
      "Input 2:  56\n",
      "Input 3:  234\n",
      "Input 4:  888\n",
      "Input 5:  1\n"
     ]
    },
    {
     "name": "stdout",
     "output_type": "stream",
     "text": [
      "Largest number: 888\n"
     ]
    }
   ],
   "source": [
    "def largest_no(n):\n",
    "    greater_no=0\n",
    "    for i in range(n):\n",
    "        n1=int(input(f\"Input {i+1}: \"))\n",
    "        if n1>greater_no:\n",
    "            greater_no=n1\n",
    "    print(f\"Largest number: {greater_no}\")\n",
    "n=int(input(\"Enter number of inputs you want: \"))\n",
    "largest_no(n)"
   ]
  },
  {
   "cell_type": "code",
   "execution_count": 105,
   "id": "71771828-5a81-4f98-a553-7ded2568b684",
   "metadata": {},
   "outputs": [
    {
     "name": "stdin",
     "output_type": "stream",
     "text": [
      "Enter Activity ('Running','Swimming','Cycling'):  Cycling\n",
      "Enter duration in minutes:  3\n"
     ]
    },
    {
     "name": "stdout",
     "output_type": "stream",
     "text": [
      "You burn 18 calories\n"
     ]
    }
   ],
   "source": [
    "def Burn_Cal(a,d):\n",
    "    cal=0\n",
    "    for i in range(Duration):\n",
    "        if Activity==\"Running\":\n",
    "            cal+=10\n",
    "        elif Activity==\"Swimming\":\n",
    "            cal+=8\n",
    "        else:\n",
    "            cal+=6\n",
    "    print(f\"You burn {cal} calories\")    \n",
    "Activity=input(\"Enter Activity ('Running','Swimming','Cycling'): \")\n",
    "Duration=int(input(\"Enter duration in minutes: \"))\n",
    "Burn_Cal(Activity,Duration)"
   ]
  },
  {
   "cell_type": "code",
   "execution_count": 108,
   "id": "09536943-d082-4dfc-9353-b6eb647fe69e",
   "metadata": {},
   "outputs": [
    {
     "name": "stdout",
     "output_type": "stream",
     "text": [
      "[2, 7, 4, 8, 2, 6, 9, 2]\n"
     ]
    }
   ],
   "source": [
    "def remove_none(list1):\n",
    "    list2=[]\n",
    "    for i in list1:\n",
    "        if i!=None:\n",
    "            list2.append(i)\n",
    "    print(list2)\n",
    "list1=[2,7,None,4,8,2,None,6,9,2,None]\n",
    "remove_none(list1)"
   ]
  },
  {
   "cell_type": "code",
   "execution_count": 110,
   "id": "7bbe5d9f-61aa-4d00-a1f1-05f6dd2147e5",
   "metadata": {},
   "outputs": [
    {
     "data": {
      "text/plain": [
       "4"
      ]
     },
     "execution_count": 110,
     "metadata": {},
     "output_type": "execute_result"
    }
   ],
   "source": [
    "add=lambda a,b:a+b\n",
    "add(2,2)"
   ]
  },
  {
   "cell_type": "code",
   "execution_count": 114,
   "id": "df397e6b-cc05-4e53-8fd9-6ee57abf5f52",
   "metadata": {},
   "outputs": [
    {
     "name": "stdin",
     "output_type": "stream",
     "text": [
      "Enter 1st number:  4\n",
      "Enter 2nd number:  2\n"
     ]
    },
    {
     "data": {
      "text/plain": [
       "2.0"
      ]
     },
     "execution_count": 114,
     "metadata": {},
     "output_type": "execute_result"
    }
   ],
   "source": [
    "n1=int(input(\"Enter 1st number: \"))\n",
    "n2=int(input(\"Enter 2nd number: \"))\n",
    "divide=lambda n1,n2: \"Undefined\" if n2==0 else n1/n2\n",
    "divide(n1,n2)"
   ]
  },
  {
   "cell_type": "code",
   "execution_count": 115,
   "id": "4dc1f035-cea0-4a80-a2ae-874877a85054",
   "metadata": {},
   "outputs": [
    {
     "name": "stdin",
     "output_type": "stream",
     "text": [
      "Enter number:  2\n"
     ]
    },
    {
     "data": {
      "text/plain": [
       "97"
      ]
     },
     "execution_count": 115,
     "metadata": {},
     "output_type": "execute_result"
    }
   ],
   "source": [
    "i=int(input(\"Enter number: \"))\n",
    "equa=lambda x:x**2+3*x+89-x\n",
    "equa(i)"
   ]
  },
  {
   "cell_type": "code",
   "execution_count": 120,
   "id": "84ecb8e5-227f-49d1-bdae-a407bdd0d904",
   "metadata": {},
   "outputs": [
    {
     "name": "stdout",
     "output_type": "stream",
     "text": [
      "[1, 3, 5, 7, 9]\n"
     ]
    }
   ],
   "source": [
    "list1=[1,2,3,4,5,6,7,8,9,10]\n",
    "even_no=list(filter(lambda i:i%2!=0,list1))\n",
    "print(even_no)"
   ]
  },
  {
   "cell_type": "code",
   "execution_count": 121,
   "id": "9605184d-8afc-4a37-83f6-c8b39a03e06d",
   "metadata": {},
   "outputs": [
    {
     "name": "stdout",
     "output_type": "stream",
     "text": [
      "[2, 7, 4, 8, 2, 6, 9, 2]\n"
     ]
    }
   ],
   "source": [
    "list1=[2,7,None,4,8,2,None,6,9,2,None]\n",
    "remove_none=list(filter(lambda i:i!=None,list1))\n",
    "print(remove_none)"
   ]
  },
  {
   "cell_type": "code",
   "execution_count": 122,
   "id": "9a223695-765c-49ec-95de-ca89f01f4e6e",
   "metadata": {},
   "outputs": [
    {
     "name": "stdout",
     "output_type": "stream",
     "text": [
      "[1, 4, 9, 16, 25, 36, 49, 64, 81, 100]\n"
     ]
    }
   ],
   "source": [
    "list1=[1,2,3,4,5,6,7,8,9,10]\n",
    "square=list(map(lambda i:i**2,list1))\n",
    "print(square)"
   ]
  },
  {
   "cell_type": "code",
   "execution_count": 125,
   "id": "f36f0f8a-e010-4dc9-81d9-0966463e7170",
   "metadata": {},
   "outputs": [
    {
     "name": "stdout",
     "output_type": "stream",
     "text": [
      "Area of circle 12.566370614359172\n",
      "Square root of 4 is 2.0\n",
      "0.8414709848078965\n",
      "1.0\n"
     ]
    }
   ],
   "source": [
    "import math\n",
    "from math import pi,sqrt,sin\n",
    "r=2\n",
    "a=pi*(r**2)\n",
    "print(f\"Area of circle {a}\")\n",
    "square=sqrt(4)\n",
    "print(f\"Square root of 4 is {square}\")\n",
    "s=sin(1)\n",
    "print(s)\n",
    "s1=sin(pi/2)\n",
    "print(s1)"
   ]
  },
  {
   "cell_type": "code",
   "execution_count": 133,
   "id": "a47e2467-29ee-443a-ad0d-c3de64683a66",
   "metadata": {},
   "outputs": [
    {
     "name": "stdout",
     "output_type": "stream",
     "text": [
      "C:\\Users\\user\\Basic Python\n",
      "['.ipynb_checkpoints', 'Basic.ipynb', 'Example_If_else_Programs.ipynb', 'For Loop, Nested For Loop, While Loop.ipynb', 'Practical_Exam1.ipynb', 'PracticePrograms.ipynb', 'Test1']\n"
     ]
    },
    {
     "ename": "PermissionError",
     "evalue": "[WinError 5] Access is denied: 'Test1'",
     "output_type": "error",
     "traceback": [
      "\u001b[1;31m---------------------------------------------------------------------------\u001b[0m",
      "\u001b[1;31mPermissionError\u001b[0m                           Traceback (most recent call last)",
      "Cell \u001b[1;32mIn[133], line 9\u001b[0m\n\u001b[0;32m      7\u001b[0m f3\u001b[38;5;241m=\u001b[39mmakedirs(\u001b[38;5;124m\"\u001b[39m\u001b[38;5;124mTest.txt\u001b[39m\u001b[38;5;124m\"\u001b[39m)\n\u001b[0;32m      8\u001b[0m \u001b[38;5;66;03m#f3=rename(\"Test\",\"Test1\")\u001b[39;00m\n\u001b[1;32m----> 9\u001b[0m f4\u001b[38;5;241m=\u001b[39m\u001b[43mremove\u001b[49m\u001b[43m(\u001b[49m\u001b[38;5;124;43m\"\u001b[39;49m\u001b[38;5;124;43mTest1\u001b[39;49m\u001b[38;5;124;43m\"\u001b[39;49m\u001b[43m)\u001b[49m\n",
      "\u001b[1;31mPermissionError\u001b[0m: [WinError 5] Access is denied: 'Test1'"
     ]
    }
   ],
   "source": [
    "import os\n",
    "from os import getcwd,listdir,makedirs,rename,remove\n",
    "f1=getcwd()\n",
    "print(f1)\n",
    "f2=listdir()\n",
    "print(f2)\n",
    "f3=makedirs(\"Test.txt\")\n",
    "#f3=rename(\"Test\",\"Test1\")\n",
    "#f4=remove(\"Test1\")\n"
   ]
  },
  {
   "cell_type": "code",
   "execution_count": 136,
   "id": "138de9ba-45bd-4648-a532-d7a696b15f2b",
   "metadata": {},
   "outputs": [
    {
     "name": "stdout",
     "output_type": "stream",
     "text": [
      "0.9658682115094455\n",
      "59\n",
      "Apple\n",
      "['Mango', 'Apple', 'Orange']\n"
     ]
    }
   ],
   "source": [
    "import random\n",
    "from random import random,randint,choice,shuffle\n",
    "n=random()\n",
    "print(n)\n",
    "n1=randint(1,100)\n",
    "print(n1)\n",
    "n2=[\"Apple\",\"Mango\",\"Orange\"]\n",
    "n3=choice(n2)\n",
    "print(n3)\n",
    "n4=shuffle(n2)\n",
    "print(n2)"
   ]
  },
  {
   "cell_type": "code",
   "execution_count": 142,
   "id": "711231dc-8e85-4c84-b8b4-3a5be7fbb1dd",
   "metadata": {},
   "outputs": [
    {
     "name": "stdout",
     "output_type": "stream",
     "text": [
      "2023-10-08\n",
      "2023-10-08 19:56:04.090802\n",
      "2023-08-10 00:00:00\n",
      "10-08-2023\n"
     ]
    }
   ],
   "source": [
    "import datetime\n",
    "from datetime import date,time,datetime,timedelta\n",
    "d=date.today()\n",
    "print(d)\n",
    "d1=datetime.now()\n",
    "print(d1)\n",
    "d2=\"2023-08-10\"\n",
    "d3=datetime.strptime(d2,\"%Y-%m-%d\")\n",
    "print(d3)\n",
    "d4=datetime.strftime(d3,\"%d-%m-%Y\")\n",
    "print(d4)"
   ]
  },
  {
   "cell_type": "code",
   "execution_count": 144,
   "id": "1ce002b9-7b0c-4f7c-b8c9-3b3213b4e149",
   "metadata": {},
   "outputs": [
    {
     "name": "stdout",
     "output_type": "stream",
     "text": [
      "<_io.TextIOWrapper name='Text.txt' mode='w' encoding='cp1252'>\n"
     ]
    }
   ],
   "source": [
    "with open(\"Text.txt\",\"w\") as file:\n",
    "    file.write(\"My name is Panchal\")\n",
    "file.close()\n",
    "print(file)"
   ]
  },
  {
   "cell_type": "code",
   "execution_count": 146,
   "id": "dff07f99-9629-4d4e-8437-a9955cdf14b1",
   "metadata": {},
   "outputs": [
    {
     "name": "stdout",
     "output_type": "stream",
     "text": [
      "My name is Panchal\n"
     ]
    }
   ],
   "source": [
    "with open(\"Text.txt\",\"r\") as file:\n",
    "    f=file.read()\n",
    "file.close()\n",
    "print(f)"
   ]
  },
  {
   "cell_type": "code",
   "execution_count": 147,
   "id": "6fad09ec-adbe-4c8c-981d-97d31c5560d2",
   "metadata": {},
   "outputs": [],
   "source": [
    "with open(\"Text.txt\",\"a\") as file:\n",
    "    file.write(\"\\nI am from Koparkhairne\")\n",
    "file.close() "
   ]
  },
  {
   "cell_type": "code",
   "execution_count": 148,
   "id": "b3c7937e-1fba-48ec-b168-a133ab76ad3e",
   "metadata": {},
   "outputs": [
    {
     "name": "stdout",
     "output_type": "stream",
     "text": [
      "My name is Panchal\n",
      "\n"
     ]
    }
   ],
   "source": [
    "with open(\"Text.txt\",\"r\") as file:\n",
    "    f=file.readline()\n",
    "file.close()\n",
    "print(f)"
   ]
  },
  {
   "cell_type": "code",
   "execution_count": 150,
   "id": "36ebf097-26de-4dfc-ad71-dd072f2ef136",
   "metadata": {},
   "outputs": [
    {
     "name": "stdout",
     "output_type": "stream",
     "text": [
      "My name is Panchal\n",
      "\n",
      "I am from Koparkhairne\n"
     ]
    }
   ],
   "source": [
    "with open(\"Text.txt\",\"r\") as file:\n",
    "    f=file.readlines()\n",
    "for i in f:\n",
    "    print(i)\n",
    "file.close()\n"
   ]
  },
  {
   "cell_type": "code",
   "execution_count": 152,
   "id": "9a95cebe-f6ce-48ff-8175-7733b3d2043b",
   "metadata": {},
   "outputs": [
    {
     "name": "stdout",
     "output_type": "stream",
     "text": [
      "<_io.TextIOWrapper name='Text.txt' mode='w' encoding='cp1252'>\n"
     ]
    }
   ],
   "source": [
    "list1=[\"Hello!!\\n\",\"Good Evening\"]\n",
    "with open(\"Text.txt\",\"w\") as file:\n",
    "    file.writelines(list1)\n",
    "file.close()\n",
    "print(file)"
   ]
  },
  {
   "cell_type": "code",
   "execution_count": 154,
   "id": "05c4f3c4-9103-4ca1-bb96-d63df1451fbb",
   "metadata": {},
   "outputs": [
    {
     "name": "stdin",
     "output_type": "stream",
     "text": [
      "Enter a string The quick Brown Fox\n"
     ]
    },
    {
     "name": "stdout",
     "output_type": "stream",
     "text": [
      "{'Upper': 3, 'Lower': 13}\n"
     ]
    }
   ],
   "source": [
    "n=input(\"Enter a string\")\n",
    "dict1={\"Upper\":0,\"Lower\":0}\n",
    "for i in n:\n",
    "    if i.isupper():\n",
    "        dict1[\"Upper\"]+=1\n",
    "    elif i.islower():\n",
    "        dict1[\"Lower\"]+=1\n",
    "    else:\n",
    "        pass\n",
    "print(dict1)"
   ]
  },
  {
   "cell_type": "code",
   "execution_count": 155,
   "id": "c8c0f717-f952-4974-bdc9-816a9f9d720c",
   "metadata": {},
   "outputs": [
    {
     "name": "stdin",
     "output_type": "stream",
     "text": [
      " 1,2,3,3,3,3,4,5\n"
     ]
    },
    {
     "name": "stdout",
     "output_type": "stream",
     "text": [
      "[1, 2, 3, 4, 5]\n"
     ]
    }
   ],
   "source": [
    "list1=eval(input())\n",
    "list2=[]\n",
    "for i in list1:\n",
    "    if i not in list2:\n",
    "        list2.append(i)\n",
    "print(list2)"
   ]
  },
  {
   "cell_type": "code",
   "execution_count": 157,
   "id": "84a0d6f1-d443-4cbd-bffe-c33a02707e05",
   "metadata": {},
   "outputs": [
    {
     "name": "stdout",
     "output_type": "stream",
     "text": [
      "[1, 4, 9, 16, 25, 36, 49, 64, 81, 100, 121, 144, 169, 196, 225, 256, 289, 324, 361, 400, 441, 484, 529, 576, 625, 676, 729, 784, 841, 900]\n"
     ]
    }
   ],
   "source": [
    "list1=[]\n",
    "for i in range(1,31):\n",
    "    list1.append(i**2)\n",
    "print(list1)"
   ]
  },
  {
   "cell_type": "code",
   "execution_count": 159,
   "id": "fea019da-fb74-4ba3-b835-2853778bc214",
   "metadata": {},
   "outputs": [
    {
     "name": "stdin",
     "output_type": "stream",
     "text": [
      "Enter string:  Ello\n"
     ]
    },
    {
     "name": "stdout",
     "output_type": "stream",
     "text": [
      "False\n"
     ]
    }
   ],
   "source": [
    "n=input(\"Enter string: \")\n",
    "n1=lambda i:True if i.startswith('H') else False\n",
    "print(n1(n))"
   ]
  },
  {
   "cell_type": "code",
   "execution_count": 160,
   "id": "8f7b4437-e7dd-4dd8-a44e-82baf398a381",
   "metadata": {},
   "outputs": [
    {
     "name": "stdout",
     "output_type": "stream",
     "text": [
      "[3, 9, 12]\n"
     ]
    }
   ],
   "source": [
    "list1=[1,3,4]\n",
    "n=list(map(lambda i:i*3,list1))\n",
    "print(n)"
   ]
  },
  {
   "cell_type": "markdown",
   "id": "11c98b0c-876c-4582-9cfb-5d2b6264a6ff",
   "metadata": {},
   "source": [
    "# Game Stone,Paper,Scissor"
   ]
  },
  {
   "cell_type": "code",
   "execution_count": 4,
   "id": "a9f1904e-96fd-48ef-857f-f4b873acfae8",
   "metadata": {},
   "outputs": [
    {
     "name": "stdin",
     "output_type": "stream",
     "text": [
      "Select your choice {'Stone','Paper','Scissor'}:  Stone\n"
     ]
    },
    {
     "name": "stdout",
     "output_type": "stream",
     "text": [
      "user select Stone and computer select Paper user win the match\n"
     ]
    },
    {
     "name": "stdin",
     "output_type": "stream",
     "text": [
      "Select your choice {'Stone','Paper','Scissor'}:  Paper\n"
     ]
    },
    {
     "name": "stdout",
     "output_type": "stream",
     "text": [
      "user select Paper and computer select Paper match draw\n"
     ]
    },
    {
     "name": "stdin",
     "output_type": "stream",
     "text": [
      "Select your choice {'Stone','Paper','Scissor'}:  Scissor\n"
     ]
    },
    {
     "name": "stdout",
     "output_type": "stream",
     "text": [
      "user select Scissor and computer select Paper user win the match\n",
      "User win the game\n"
     ]
    }
   ],
   "source": [
    "import random\n",
    "from random import choice\n",
    "def stone_paper_scissor(ch_list,limit,c,c1,c2):\n",
    "    comp=choice(ch_list)\n",
    "    while limit>0:\n",
    "        user=input(\"Select your choice {'Stone','Paper','Scissor'}: \")\n",
    "        if user==comp:\n",
    "            print(f\"user select {user} and computer select {comp} match draw\")\n",
    "            c+=1\n",
    "        elif user==\"Stone\" and comp==\"Paper\" :\n",
    "                print(f\"user select {user} and computer select {comp} user win the match\")\n",
    "                c1+=1\n",
    "        elif user==\"Scissor\" and comp==\"Paper\" :\n",
    "                print(f\"user select {user} and computer select {comp} user win the match\")\n",
    "                c1+=1\n",
    "        elif user==\"Stone\" and comp==\"Scissor\" :\n",
    "                print(f\"user select {user} and computer select {comp} user win the match\")\n",
    "                c1+=1\n",
    "        else:\n",
    "            print(f\"user select {user} and computer select {comp} computer win the match\")\n",
    "            c2+=1\n",
    "        limit-=1\n",
    "    if c>c1:\n",
    "        if c>c2:\n",
    "            print(\"Match Draw\")\n",
    "        else:\n",
    "            print(\"Computer win the game\")\n",
    "    else:\n",
    "        if c1>c2:\n",
    "            print(\"User win the game\")\n",
    "        else:\n",
    "            print(\"Computer win the game\")\n",
    "ch_list=[\"Stone\",\"Paper\",\"Scissor\"]\n",
    "limit=3\n",
    "c=0;c1=0;c2=0\n",
    "stone_paper_scissor(ch_list,limit,c,c1,c2)"
   ]
  },
  {
   "cell_type": "code",
   "execution_count": null,
   "id": "9d5d9939-9cff-4163-aa0f-5ca6d2f0eefb",
   "metadata": {},
   "outputs": [],
   "source": []
  }
 ],
 "metadata": {
  "kernelspec": {
   "display_name": "Python 3 (ipykernel)",
   "language": "python",
   "name": "python3"
  },
  "language_info": {
   "codemirror_mode": {
    "name": "ipython",
    "version": 3
   },
   "file_extension": ".py",
   "mimetype": "text/x-python",
   "name": "python",
   "nbconvert_exporter": "python",
   "pygments_lexer": "ipython3",
   "version": "3.11.4"
  }
 },
 "nbformat": 4,
 "nbformat_minor": 5
}
